{
  "nbformat": 4,
  "nbformat_minor": 0,
  "metadata": {
    "colab": {
      "name": "DS Project.ipynb",
      "provenance": [],
      "collapsed_sections": [],
      "authorship_tag": "ABX9TyPznUx+xvYBEP+mj+9gTP93",
      "include_colab_link": true
    },
    "kernelspec": {
      "name": "python3",
      "display_name": "Python 3"
    }
  },
  "cells": [
    {
      "cell_type": "markdown",
      "metadata": {
        "id": "view-in-github",
        "colab_type": "text"
      },
      "source": [
        "<a href=\"https://colab.research.google.com/github/RahafSh/LA-Project/blob/master/DS_Project.ipynb\" target=\"_parent\"><img src=\"https://colab.research.google.com/assets/colab-badge.svg\" alt=\"Open In Colab\"/></a>"
      ]
    },
    {
      "cell_type": "markdown",
      "metadata": {
        "id": "XtNJpkf1UtIo"
      },
      "source": [
        "# **Data Science Project**\n",
        "\n",
        "\n",
        "##Learning Objectives:\n",
        "\n",
        " \n",
        "* Formulate  the problem\n",
        "* Load the Data\n",
        "* Data Exploration\n",
        "* Clean The Data\n",
        "* Discover and Visualize the Data to Gain Insights\n",
        "* Looking for Correlations\n",
        "* Prepare the Data for Machine Learning Algorithms\n",
        "* Save Cleaned Data and Download it\n",
        "\n",
        "\n"
      ]
    },
    {
      "cell_type": "markdown",
      "metadata": {
        "id": "3hNFkjmUVLv0"
      },
      "source": [
        "#Formulate  the problem"
      ]
    },
    {
      "cell_type": "markdown",
      "metadata": {
        "id": "VBvJZbSwt2-F"
      },
      "source": [
        "Prediction of next semester cgpa is very difficult. Prediction of next semester cgpa can be done by analyzing the past performance of a student.\n",
        "\n",
        "**Loading the dataset from Kaggle website**  \n",
        "[Click here](https://www.kaggle.com/sankha1998/student-semester-result)"
      ]
    },
    {
      "cell_type": "code",
      "metadata": {
        "id": "_2awGlG_UhRl"
      },
      "source": [
        "#Import libraries\n",
        "\n",
        "import numpy as np\n",
        "import pandas as pd\n",
        "import seaborn as sns\n",
        "import matplotlib.pyplot as plt"
      ],
      "execution_count": 287,
      "outputs": []
    },
    {
      "cell_type": "markdown",
      "metadata": {
        "id": "rDw8wI-WVQLK"
      },
      "source": [
        "#Load Data"
      ]
    },
    {
      "cell_type": "code",
      "metadata": {
        "id": "ANCCWuZoWIu9"
      },
      "source": [
        "#Load the dataset\n",
        "\n",
        "file_path = '/content/data.csv'"
      ],
      "execution_count": 288,
      "outputs": []
    },
    {
      "cell_type": "code",
      "metadata": {
        "id": "r7yRSdRLWS-K",
        "outputId": "6f81437c-ce57-45b3-cef2-7a49f4b6fc69",
        "colab": {
          "base_uri": "https://localhost:8080/",
          "height": 415
        }
      },
      "source": [
        "#Use the Pandas method read_csv() to load the data from the web address.\n",
        "df = pd.read_csv(file_path)\n",
        "df"
      ],
      "execution_count": 289,
      "outputs": [
        {
          "output_type": "execute_result",
          "data": {
            "text/html": [
              "<div>\n",
              "<style scoped>\n",
              "    .dataframe tbody tr th:only-of-type {\n",
              "        vertical-align: middle;\n",
              "    }\n",
              "\n",
              "    .dataframe tbody tr th {\n",
              "        vertical-align: top;\n",
              "    }\n",
              "\n",
              "    .dataframe thead th {\n",
              "        text-align: right;\n",
              "    }\n",
              "</style>\n",
              "<table border=\"1\" class=\"dataframe\">\n",
              "  <thead>\n",
              "    <tr style=\"text-align: right;\">\n",
              "      <th></th>\n",
              "      <th>1st</th>\n",
              "      <th>2nd</th>\n",
              "      <th>3rd</th>\n",
              "      <th>4th</th>\n",
              "      <th>5th</th>\n",
              "      <th>College Code</th>\n",
              "      <th>Gender</th>\n",
              "      <th>Roll</th>\n",
              "      <th>Roll no.</th>\n",
              "      <th>Subject Code</th>\n",
              "    </tr>\n",
              "  </thead>\n",
              "  <tbody>\n",
              "    <tr>\n",
              "      <th>0</th>\n",
              "      <td>8.11</td>\n",
              "      <td>7.68</td>\n",
              "      <td>7.11</td>\n",
              "      <td>7.43</td>\n",
              "      <td>8.18</td>\n",
              "      <td>115</td>\n",
              "      <td>Female</td>\n",
              "      <td>NaN</td>\n",
              "      <td>17020.0</td>\n",
              "      <td>16</td>\n",
              "    </tr>\n",
              "    <tr>\n",
              "      <th>1</th>\n",
              "      <td>6.48</td>\n",
              "      <td>5.90</td>\n",
              "      <td>4.15</td>\n",
              "      <td>4.29</td>\n",
              "      <td>4.96</td>\n",
              "      <td>115</td>\n",
              "      <td>Male</td>\n",
              "      <td>NaN</td>\n",
              "      <td>17021.0</td>\n",
              "      <td>16</td>\n",
              "    </tr>\n",
              "    <tr>\n",
              "      <th>2</th>\n",
              "      <td>8.41</td>\n",
              "      <td>8.24</td>\n",
              "      <td>7.52</td>\n",
              "      <td>8.25</td>\n",
              "      <td>7.75</td>\n",
              "      <td>115</td>\n",
              "      <td>Female</td>\n",
              "      <td>NaN</td>\n",
              "      <td>17022.0</td>\n",
              "      <td>16</td>\n",
              "    </tr>\n",
              "    <tr>\n",
              "      <th>3</th>\n",
              "      <td>7.33</td>\n",
              "      <td>6.83</td>\n",
              "      <td>6.33</td>\n",
              "      <td>6.79</td>\n",
              "      <td>6.89</td>\n",
              "      <td>115</td>\n",
              "      <td>Male</td>\n",
              "      <td>NaN</td>\n",
              "      <td>17023.0</td>\n",
              "      <td>16</td>\n",
              "    </tr>\n",
              "    <tr>\n",
              "      <th>4</th>\n",
              "      <td>7.89</td>\n",
              "      <td>7.34</td>\n",
              "      <td>7.22</td>\n",
              "      <td>7.32</td>\n",
              "      <td>7.46</td>\n",
              "      <td>115</td>\n",
              "      <td>Male</td>\n",
              "      <td>NaN</td>\n",
              "      <td>17024.0</td>\n",
              "      <td>16</td>\n",
              "    </tr>\n",
              "    <tr>\n",
              "      <th>...</th>\n",
              "      <td>...</td>\n",
              "      <td>...</td>\n",
              "      <td>...</td>\n",
              "      <td>...</td>\n",
              "      <td>...</td>\n",
              "      <td>...</td>\n",
              "      <td>...</td>\n",
              "      <td>...</td>\n",
              "      <td>...</td>\n",
              "      <td>...</td>\n",
              "    </tr>\n",
              "    <tr>\n",
              "      <th>173</th>\n",
              "      <td>7.48</td>\n",
              "      <td>7.55</td>\n",
              "      <td>7.67</td>\n",
              "      <td>7.39</td>\n",
              "      <td>8.65</td>\n",
              "      <td>241</td>\n",
              "      <td>F</td>\n",
              "      <td>17048.0</td>\n",
              "      <td>NaN</td>\n",
              "      <td>28</td>\n",
              "    </tr>\n",
              "    <tr>\n",
              "      <th>174</th>\n",
              "      <td>7.30</td>\n",
              "      <td>6.41</td>\n",
              "      <td>6.59</td>\n",
              "      <td>7.11</td>\n",
              "      <td>7.38</td>\n",
              "      <td>241</td>\n",
              "      <td>M</td>\n",
              "      <td>17049.0</td>\n",
              "      <td>NaN</td>\n",
              "      <td>28</td>\n",
              "    </tr>\n",
              "    <tr>\n",
              "      <th>175</th>\n",
              "      <td>6.30</td>\n",
              "      <td>6.28</td>\n",
              "      <td>5.89</td>\n",
              "      <td>5.71</td>\n",
              "      <td>6.50</td>\n",
              "      <td>241</td>\n",
              "      <td>M</td>\n",
              "      <td>17050.0</td>\n",
              "      <td>NaN</td>\n",
              "      <td>28</td>\n",
              "    </tr>\n",
              "    <tr>\n",
              "      <th>176</th>\n",
              "      <td>7.04</td>\n",
              "      <td>7.10</td>\n",
              "      <td>6.81</td>\n",
              "      <td>7.00</td>\n",
              "      <td>6.92</td>\n",
              "      <td>241</td>\n",
              "      <td>M</td>\n",
              "      <td>17051.0</td>\n",
              "      <td>NaN</td>\n",
              "      <td>28</td>\n",
              "    </tr>\n",
              "    <tr>\n",
              "      <th>177</th>\n",
              "      <td>6.70</td>\n",
              "      <td>6.81</td>\n",
              "      <td>6.52</td>\n",
              "      <td>5.39</td>\n",
              "      <td>7.00</td>\n",
              "      <td>241</td>\n",
              "      <td>M</td>\n",
              "      <td>17052.0</td>\n",
              "      <td>NaN</td>\n",
              "      <td>28</td>\n",
              "    </tr>\n",
              "  </tbody>\n",
              "</table>\n",
              "<p>178 rows × 10 columns</p>\n",
              "</div>"
            ],
            "text/plain": [
              "      1st   2nd   3rd   4th  ...  Gender     Roll Roll no.  Subject Code\n",
              "0    8.11  7.68  7.11  7.43  ...  Female      NaN  17020.0            16\n",
              "1    6.48  5.90  4.15  4.29  ...    Male      NaN  17021.0            16\n",
              "2    8.41  8.24  7.52  8.25  ...  Female      NaN  17022.0            16\n",
              "3    7.33  6.83  6.33  6.79  ...    Male      NaN  17023.0            16\n",
              "4    7.89  7.34  7.22  7.32  ...    Male      NaN  17024.0            16\n",
              "..    ...   ...   ...   ...  ...     ...      ...      ...           ...\n",
              "173  7.48  7.55  7.67  7.39  ...       F  17048.0      NaN            28\n",
              "174  7.30  6.41  6.59  7.11  ...       M  17049.0      NaN            28\n",
              "175  6.30  6.28  5.89  5.71  ...       M  17050.0      NaN            28\n",
              "176  7.04  7.10  6.81  7.00  ...       M  17051.0      NaN            28\n",
              "177  6.70  6.81  6.52  5.39  ...       M  17052.0      NaN            28\n",
              "\n",
              "[178 rows x 10 columns]"
            ]
          },
          "metadata": {
            "tags": []
          },
          "execution_count": 289
        }
      ]
    },
    {
      "cell_type": "markdown",
      "metadata": {
        "id": "4vRy87glVUO3"
      },
      "source": [
        "#Data Exploration"
      ]
    },
    {
      "cell_type": "code",
      "metadata": {
        "id": "tEeV4QowWbq7",
        "outputId": "6ebe2bf8-b5aa-4c76-fe91-8a5f5903e0db",
        "colab": {
          "base_uri": "https://localhost:8080/",
          "height": 202
        }
      },
      "source": [
        "#Use the method head() to display the first five rows of the dataframe.\n",
        "df.head()"
      ],
      "execution_count": 290,
      "outputs": [
        {
          "output_type": "execute_result",
          "data": {
            "text/html": [
              "<div>\n",
              "<style scoped>\n",
              "    .dataframe tbody tr th:only-of-type {\n",
              "        vertical-align: middle;\n",
              "    }\n",
              "\n",
              "    .dataframe tbody tr th {\n",
              "        vertical-align: top;\n",
              "    }\n",
              "\n",
              "    .dataframe thead th {\n",
              "        text-align: right;\n",
              "    }\n",
              "</style>\n",
              "<table border=\"1\" class=\"dataframe\">\n",
              "  <thead>\n",
              "    <tr style=\"text-align: right;\">\n",
              "      <th></th>\n",
              "      <th>1st</th>\n",
              "      <th>2nd</th>\n",
              "      <th>3rd</th>\n",
              "      <th>4th</th>\n",
              "      <th>5th</th>\n",
              "      <th>College Code</th>\n",
              "      <th>Gender</th>\n",
              "      <th>Roll</th>\n",
              "      <th>Roll no.</th>\n",
              "      <th>Subject Code</th>\n",
              "    </tr>\n",
              "  </thead>\n",
              "  <tbody>\n",
              "    <tr>\n",
              "      <th>0</th>\n",
              "      <td>8.11</td>\n",
              "      <td>7.68</td>\n",
              "      <td>7.11</td>\n",
              "      <td>7.43</td>\n",
              "      <td>8.18</td>\n",
              "      <td>115</td>\n",
              "      <td>Female</td>\n",
              "      <td>NaN</td>\n",
              "      <td>17020.0</td>\n",
              "      <td>16</td>\n",
              "    </tr>\n",
              "    <tr>\n",
              "      <th>1</th>\n",
              "      <td>6.48</td>\n",
              "      <td>5.90</td>\n",
              "      <td>4.15</td>\n",
              "      <td>4.29</td>\n",
              "      <td>4.96</td>\n",
              "      <td>115</td>\n",
              "      <td>Male</td>\n",
              "      <td>NaN</td>\n",
              "      <td>17021.0</td>\n",
              "      <td>16</td>\n",
              "    </tr>\n",
              "    <tr>\n",
              "      <th>2</th>\n",
              "      <td>8.41</td>\n",
              "      <td>8.24</td>\n",
              "      <td>7.52</td>\n",
              "      <td>8.25</td>\n",
              "      <td>7.75</td>\n",
              "      <td>115</td>\n",
              "      <td>Female</td>\n",
              "      <td>NaN</td>\n",
              "      <td>17022.0</td>\n",
              "      <td>16</td>\n",
              "    </tr>\n",
              "    <tr>\n",
              "      <th>3</th>\n",
              "      <td>7.33</td>\n",
              "      <td>6.83</td>\n",
              "      <td>6.33</td>\n",
              "      <td>6.79</td>\n",
              "      <td>6.89</td>\n",
              "      <td>115</td>\n",
              "      <td>Male</td>\n",
              "      <td>NaN</td>\n",
              "      <td>17023.0</td>\n",
              "      <td>16</td>\n",
              "    </tr>\n",
              "    <tr>\n",
              "      <th>4</th>\n",
              "      <td>7.89</td>\n",
              "      <td>7.34</td>\n",
              "      <td>7.22</td>\n",
              "      <td>7.32</td>\n",
              "      <td>7.46</td>\n",
              "      <td>115</td>\n",
              "      <td>Male</td>\n",
              "      <td>NaN</td>\n",
              "      <td>17024.0</td>\n",
              "      <td>16</td>\n",
              "    </tr>\n",
              "  </tbody>\n",
              "</table>\n",
              "</div>"
            ],
            "text/plain": [
              "    1st   2nd   3rd   4th  ...  Gender  Roll Roll no.  Subject Code\n",
              "0  8.11  7.68  7.11  7.43  ...  Female   NaN  17020.0            16\n",
              "1  6.48  5.90  4.15  4.29  ...    Male   NaN  17021.0            16\n",
              "2  8.41  8.24  7.52  8.25  ...  Female   NaN  17022.0            16\n",
              "3  7.33  6.83  6.33  6.79  ...    Male   NaN  17023.0            16\n",
              "4  7.89  7.34  7.22  7.32  ...    Male   NaN  17024.0            16\n",
              "\n",
              "[5 rows x 10 columns]"
            ]
          },
          "metadata": {
            "tags": []
          },
          "execution_count": 290
        }
      ]
    },
    {
      "cell_type": "markdown",
      "metadata": {
        "id": "Pd7Tu9u_VZpM"
      },
      "source": [
        "#Clean Data"
      ]
    },
    {
      "cell_type": "code",
      "metadata": {
        "id": "j7y8qWZCWeLM",
        "outputId": "b1a893ef-d70d-48e2-90dc-7e234bb53e2e",
        "colab": {
          "base_uri": "https://localhost:8080/",
          "height": 311
        }
      },
      "source": [
        "df.info()"
      ],
      "execution_count": 291,
      "outputs": [
        {
          "output_type": "stream",
          "text": [
            "<class 'pandas.core.frame.DataFrame'>\n",
            "RangeIndex: 178 entries, 0 to 177\n",
            "Data columns (total 10 columns):\n",
            " #   Column        Non-Null Count  Dtype  \n",
            "---  ------        --------------  -----  \n",
            " 0   1st           176 non-null    float64\n",
            " 1   2nd           174 non-null    float64\n",
            " 2   3rd           176 non-null    float64\n",
            " 3   4th           173 non-null    float64\n",
            " 4   5th           172 non-null    float64\n",
            " 5   College Code  178 non-null    int64  \n",
            " 6   Gender        177 non-null    object \n",
            " 7   Roll          132 non-null    float64\n",
            " 8   Roll no.      46 non-null     float64\n",
            " 9   Subject Code  178 non-null    int64  \n",
            "dtypes: float64(7), int64(2), object(1)\n",
            "memory usage: 14.0+ KB\n"
          ],
          "name": "stdout"
        }
      ]
    },
    {
      "cell_type": "markdown",
      "metadata": {
        "id": "faOJQFOCtoSx"
      },
      "source": [
        "#Missing data values"
      ]
    },
    {
      "cell_type": "code",
      "metadata": {
        "id": "_kBrUmxrWre1",
        "outputId": "6894827b-eb6d-4d62-a1cb-f3bea445e286",
        "colab": {
          "base_uri": "https://localhost:8080/",
          "height": 207
        }
      },
      "source": [
        "# 1. Identify missing values\n",
        "\n",
        "df.isnull().sum()"
      ],
      "execution_count": 292,
      "outputs": [
        {
          "output_type": "execute_result",
          "data": {
            "text/plain": [
              "1st               2\n",
              "2nd               4\n",
              "3rd               2\n",
              "4th               5\n",
              "5th               6\n",
              "College Code      0\n",
              "Gender            1\n",
              "Roll             46\n",
              "Roll no.        132\n",
              "Subject Code      0\n",
              "dtype: int64"
            ]
          },
          "metadata": {
            "tags": []
          },
          "execution_count": 292
        }
      ]
    },
    {
      "cell_type": "code",
      "metadata": {
        "id": "Aqcmskdftdlv",
        "outputId": "fda3c750-c982-4345-f97e-63ba1a6971d9",
        "colab": {
          "base_uri": "https://localhost:8080/",
          "height": 34
        }
      },
      "source": [
        "df.isnull().sum().sum()"
      ],
      "execution_count": 293,
      "outputs": [
        {
          "output_type": "execute_result",
          "data": {
            "text/plain": [
              "198"
            ]
          },
          "metadata": {
            "tags": []
          },
          "execution_count": 293
        }
      ]
    },
    {
      "cell_type": "code",
      "metadata": {
        "id": "Dideawo_XAaP",
        "outputId": "728057ef-570b-4f1f-c575-4349a3069109",
        "colab": {
          "base_uri": "https://localhost:8080/",
          "height": 325
        }
      },
      "source": [
        "# Check if there is any missing value\n",
        "\n",
        "sns.heatmap(df.isnull(), cmap='viridis')\n",
        "plt.show()"
      ],
      "execution_count": 294,
      "outputs": [
        {
          "output_type": "display_data",
          "data": {
            "image/png": "[encoded data removed]",
            "text/plain": [
              "<Figure size 432x288 with 2 Axes>"
            ]
          },
          "metadata": {
            "tags": [],
            "needs_background": "light"
          }
        }
      ]
    },
    {
      "cell_type": "code",
      "metadata": {
        "id": "97wkooHcXLza",
        "outputId": "765a3985-4581-496e-cdd2-73511098d88f",
        "colab": {
          "base_uri": "https://localhost:8080/",
          "height": 355
        }
      },
      "source": [
        "#Convert \"?\" to NaN\n",
        "\n",
        "import numpy as np\n",
        "\n",
        "df.replace(\"?\", np.nan, inplace = True)\n",
        "df.head(10)"
      ],
      "execution_count": 295,
      "outputs": [
        {
          "output_type": "execute_result",
          "data": {
            "text/html": [
              "<div>\n",
              "<style scoped>\n",
              "    .dataframe tbody tr th:only-of-type {\n",
              "        vertical-align: middle;\n",
              "    }\n",
              "\n",
              "    .dataframe tbody tr th {\n",
              "        vertical-align: top;\n",
              "    }\n",
              "\n",
              "    .dataframe thead th {\n",
              "        text-align: right;\n",
              "    }\n",
              "</style>\n",
              "<table border=\"1\" class=\"dataframe\">\n",
              "  <thead>\n",
              "    <tr style=\"text-align: right;\">\n",
              "      <th></th>\n",
              "      <th>1st</th>\n",
              "      <th>2nd</th>\n",
              "      <th>3rd</th>\n",
              "      <th>4th</th>\n",
              "      <th>5th</th>\n",
              "      <th>College Code</th>\n",
              "      <th>Gender</th>\n",
              "      <th>Roll</th>\n",
              "      <th>Roll no.</th>\n",
              "      <th>Subject Code</th>\n",
              "    </tr>\n",
              "  </thead>\n",
              "  <tbody>\n",
              "    <tr>\n",
              "      <th>0</th>\n",
              "      <td>8.11</td>\n",
              "      <td>7.68</td>\n",
              "      <td>7.11</td>\n",
              "      <td>7.43</td>\n",
              "      <td>8.18</td>\n",
              "      <td>115</td>\n",
              "      <td>Female</td>\n",
              "      <td>NaN</td>\n",
              "      <td>17020.0</td>\n",
              "      <td>16</td>\n",
              "    </tr>\n",
              "    <tr>\n",
              "      <th>1</th>\n",
              "      <td>6.48</td>\n",
              "      <td>5.90</td>\n",
              "      <td>4.15</td>\n",
              "      <td>4.29</td>\n",
              "      <td>4.96</td>\n",
              "      <td>115</td>\n",
              "      <td>Male</td>\n",
              "      <td>NaN</td>\n",
              "      <td>17021.0</td>\n",
              "      <td>16</td>\n",
              "    </tr>\n",
              "    <tr>\n",
              "      <th>2</th>\n",
              "      <td>8.41</td>\n",
              "      <td>8.24</td>\n",
              "      <td>7.52</td>\n",
              "      <td>8.25</td>\n",
              "      <td>7.75</td>\n",
              "      <td>115</td>\n",
              "      <td>Female</td>\n",
              "      <td>NaN</td>\n",
              "      <td>17022.0</td>\n",
              "      <td>16</td>\n",
              "    </tr>\n",
              "    <tr>\n",
              "      <th>3</th>\n",
              "      <td>7.33</td>\n",
              "      <td>6.83</td>\n",
              "      <td>6.33</td>\n",
              "      <td>6.79</td>\n",
              "      <td>6.89</td>\n",
              "      <td>115</td>\n",
              "      <td>Male</td>\n",
              "      <td>NaN</td>\n",
              "      <td>17023.0</td>\n",
              "      <td>16</td>\n",
              "    </tr>\n",
              "    <tr>\n",
              "      <th>4</th>\n",
              "      <td>7.89</td>\n",
              "      <td>7.34</td>\n",
              "      <td>7.22</td>\n",
              "      <td>7.32</td>\n",
              "      <td>7.46</td>\n",
              "      <td>115</td>\n",
              "      <td>Male</td>\n",
              "      <td>NaN</td>\n",
              "      <td>17024.0</td>\n",
              "      <td>16</td>\n",
              "    </tr>\n",
              "    <tr>\n",
              "      <th>5</th>\n",
              "      <td>7.33</td>\n",
              "      <td>6.72</td>\n",
              "      <td>6.48</td>\n",
              "      <td>6.50</td>\n",
              "      <td>7.39</td>\n",
              "      <td>115</td>\n",
              "      <td>Male</td>\n",
              "      <td>NaN</td>\n",
              "      <td>17025.0</td>\n",
              "      <td>16</td>\n",
              "    </tr>\n",
              "    <tr>\n",
              "      <th>6</th>\n",
              "      <td>7.15</td>\n",
              "      <td>6.72</td>\n",
              "      <td>6.89</td>\n",
              "      <td>6.86</td>\n",
              "      <td>7.64</td>\n",
              "      <td>115</td>\n",
              "      <td>Male</td>\n",
              "      <td>NaN</td>\n",
              "      <td>17026.0</td>\n",
              "      <td>16</td>\n",
              "    </tr>\n",
              "    <tr>\n",
              "      <th>7</th>\n",
              "      <td>6.74</td>\n",
              "      <td>6.38</td>\n",
              "      <td>4.93</td>\n",
              "      <td>5.64</td>\n",
              "      <td>6.75</td>\n",
              "      <td>115</td>\n",
              "      <td>Male</td>\n",
              "      <td>NaN</td>\n",
              "      <td>17027.0</td>\n",
              "      <td>16</td>\n",
              "    </tr>\n",
              "    <tr>\n",
              "      <th>8</th>\n",
              "      <td>7.89</td>\n",
              "      <td>7.45</td>\n",
              "      <td>6.96</td>\n",
              "      <td>7.71</td>\n",
              "      <td>8.00</td>\n",
              "      <td>115</td>\n",
              "      <td>Female</td>\n",
              "      <td>NaN</td>\n",
              "      <td>17028.0</td>\n",
              "      <td>16</td>\n",
              "    </tr>\n",
              "    <tr>\n",
              "      <th>9</th>\n",
              "      <td>7.30</td>\n",
              "      <td>6.34</td>\n",
              "      <td>6.30</td>\n",
              "      <td>6.61</td>\n",
              "      <td>6.18</td>\n",
              "      <td>115</td>\n",
              "      <td>Male</td>\n",
              "      <td>NaN</td>\n",
              "      <td>17029.0</td>\n",
              "      <td>16</td>\n",
              "    </tr>\n",
              "  </tbody>\n",
              "</table>\n",
              "</div>"
            ],
            "text/plain": [
              "    1st   2nd   3rd   4th  ...  Gender  Roll Roll no.  Subject Code\n",
              "0  8.11  7.68  7.11  7.43  ...  Female   NaN  17020.0            16\n",
              "1  6.48  5.90  4.15  4.29  ...    Male   NaN  17021.0            16\n",
              "2  8.41  8.24  7.52  8.25  ...  Female   NaN  17022.0            16\n",
              "3  7.33  6.83  6.33  6.79  ...    Male   NaN  17023.0            16\n",
              "4  7.89  7.34  7.22  7.32  ...    Male   NaN  17024.0            16\n",
              "5  7.33  6.72  6.48  6.50  ...    Male   NaN  17025.0            16\n",
              "6  7.15  6.72  6.89  6.86  ...    Male   NaN  17026.0            16\n",
              "7  6.74  6.38  4.93  5.64  ...    Male   NaN  17027.0            16\n",
              "8  7.89  7.45  6.96  7.71  ...  Female   NaN  17028.0            16\n",
              "9  7.30  6.34  6.30  6.61  ...    Male   NaN  17029.0            16\n",
              "\n",
              "[10 rows x 10 columns]"
            ]
          },
          "metadata": {
            "tags": []
          },
          "execution_count": 295
        }
      ]
    },
    {
      "cell_type": "code",
      "metadata": {
        "id": "lh7UP4OpXXHp"
      },
      "source": [
        "# 2. Deal with missing data\n",
        "\n",
        "# Drop the whole row\n",
        "\n",
        "# 1st,2nd,3rd,4th,5th has NaN\n",
        "# simply drop whole row with NaN \n",
        "\n",
        "df.dropna(subset=[\"1st\"], axis=0, inplace=True)\n",
        "df.dropna(subset=[\"2nd\"], axis=0, inplace=True)\n",
        "df.dropna(subset=[\"3rd\"], axis=0, inplace=True)\n",
        "df.dropna(subset=[\"4th\"], axis=0, inplace=True)\n",
        "df.dropna(subset=[\"5th\"], axis=0, inplace=True)"
      ],
      "execution_count": 296,
      "outputs": []
    },
    {
      "cell_type": "code",
      "metadata": {
        "id": "02NLy3RSXwHA"
      },
      "source": [
        "# Drop the whole column\n",
        "\n",
        "# Roll we have 46 NaN\n",
        "# simply drop whole Roll column with NaN \n",
        "df.drop([\"Roll\"], axis=1, inplace=True)"
      ],
      "execution_count": 297,
      "outputs": []
    },
    {
      "cell_type": "code",
      "metadata": {
        "id": "7T3-XNIZ3T7z",
        "outputId": "9ab14ecc-2d62-45e3-ed9f-57ba204bd6d7",
        "colab": {
          "base_uri": "https://localhost:8080/",
          "height": 34
        }
      },
      "source": [
        "# Replace by sklearn.impute\n",
        "\n",
        "# Roll no. has 132 NaN\n",
        "#import numpy as np\n",
        "from sklearn.impute import SimpleImputer\n",
        "imr = SimpleImputer(missing_values=np.nan, strategy='median')# mean , median , most_frequent , (constant ==fill_value)\n",
        "df['Roll no.'] = imr.fit_transform(df[['Roll no.']])\n",
        "\n",
        "# After impute\n",
        "df['Roll no.'].isnull().sum()"
      ],
      "execution_count": 298,
      "outputs": [
        {
          "output_type": "execute_result",
          "data": {
            "text/plain": [
              "0"
            ]
          },
          "metadata": {
            "tags": []
          },
          "execution_count": 298
        }
      ]
    },
    {
      "cell_type": "code",
      "metadata": {
        "id": "9RloHkMlySTH",
        "outputId": "5fc15941-b9a9-49a8-904e-9a09a50117c7",
        "colab": {
          "base_uri": "https://localhost:8080/",
          "height": 190
        }
      },
      "source": [
        "df.isnull().sum()"
      ],
      "execution_count": 299,
      "outputs": [
        {
          "output_type": "execute_result",
          "data": {
            "text/plain": [
              "1st             0\n",
              "2nd             0\n",
              "3rd             0\n",
              "4th             0\n",
              "5th             0\n",
              "College Code    0\n",
              "Gender          0\n",
              "Roll no.        0\n",
              "Subject Code    0\n",
              "dtype: int64"
            ]
          },
          "metadata": {
            "tags": []
          },
          "execution_count": 299
        }
      ]
    },
    {
      "cell_type": "code",
      "metadata": {
        "id": "F8sTx9yb0fXh",
        "outputId": "3e54a70d-669f-4ee5-b905-3d8cc56e3b6c",
        "colab": {
          "base_uri": "https://localhost:8080/",
          "height": 202
        }
      },
      "source": [
        "df.head()"
      ],
      "execution_count": 300,
      "outputs": [
        {
          "output_type": "execute_result",
          "data": {
            "text/html": [
              "<div>\n",
              "<style scoped>\n",
              "    .dataframe tbody tr th:only-of-type {\n",
              "        vertical-align: middle;\n",
              "    }\n",
              "\n",
              "    .dataframe tbody tr th {\n",
              "        vertical-align: top;\n",
              "    }\n",
              "\n",
              "    .dataframe thead th {\n",
              "        text-align: right;\n",
              "    }\n",
              "</style>\n",
              "<table border=\"1\" class=\"dataframe\">\n",
              "  <thead>\n",
              "    <tr style=\"text-align: right;\">\n",
              "      <th></th>\n",
              "      <th>1st</th>\n",
              "      <th>2nd</th>\n",
              "      <th>3rd</th>\n",
              "      <th>4th</th>\n",
              "      <th>5th</th>\n",
              "      <th>College Code</th>\n",
              "      <th>Gender</th>\n",
              "      <th>Roll no.</th>\n",
              "      <th>Subject Code</th>\n",
              "    </tr>\n",
              "  </thead>\n",
              "  <tbody>\n",
              "    <tr>\n",
              "      <th>0</th>\n",
              "      <td>8.11</td>\n",
              "      <td>7.68</td>\n",
              "      <td>7.11</td>\n",
              "      <td>7.43</td>\n",
              "      <td>8.18</td>\n",
              "      <td>115</td>\n",
              "      <td>Female</td>\n",
              "      <td>17020.0</td>\n",
              "      <td>16</td>\n",
              "    </tr>\n",
              "    <tr>\n",
              "      <th>1</th>\n",
              "      <td>6.48</td>\n",
              "      <td>5.90</td>\n",
              "      <td>4.15</td>\n",
              "      <td>4.29</td>\n",
              "      <td>4.96</td>\n",
              "      <td>115</td>\n",
              "      <td>Male</td>\n",
              "      <td>17021.0</td>\n",
              "      <td>16</td>\n",
              "    </tr>\n",
              "    <tr>\n",
              "      <th>2</th>\n",
              "      <td>8.41</td>\n",
              "      <td>8.24</td>\n",
              "      <td>7.52</td>\n",
              "      <td>8.25</td>\n",
              "      <td>7.75</td>\n",
              "      <td>115</td>\n",
              "      <td>Female</td>\n",
              "      <td>17022.0</td>\n",
              "      <td>16</td>\n",
              "    </tr>\n",
              "    <tr>\n",
              "      <th>3</th>\n",
              "      <td>7.33</td>\n",
              "      <td>6.83</td>\n",
              "      <td>6.33</td>\n",
              "      <td>6.79</td>\n",
              "      <td>6.89</td>\n",
              "      <td>115</td>\n",
              "      <td>Male</td>\n",
              "      <td>17023.0</td>\n",
              "      <td>16</td>\n",
              "    </tr>\n",
              "    <tr>\n",
              "      <th>4</th>\n",
              "      <td>7.89</td>\n",
              "      <td>7.34</td>\n",
              "      <td>7.22</td>\n",
              "      <td>7.32</td>\n",
              "      <td>7.46</td>\n",
              "      <td>115</td>\n",
              "      <td>Male</td>\n",
              "      <td>17024.0</td>\n",
              "      <td>16</td>\n",
              "    </tr>\n",
              "  </tbody>\n",
              "</table>\n",
              "</div>"
            ],
            "text/plain": [
              "    1st   2nd   3rd   4th   5th  College Code  Gender  Roll no.  Subject Code\n",
              "0  8.11  7.68  7.11  7.43  8.18           115  Female   17020.0            16\n",
              "1  6.48  5.90  4.15  4.29  4.96           115    Male   17021.0            16\n",
              "2  8.41  8.24  7.52  8.25  7.75           115  Female   17022.0            16\n",
              "3  7.33  6.83  6.33  6.79  6.89           115    Male   17023.0            16\n",
              "4  7.89  7.34  7.22  7.32  7.46           115    Male   17024.0            16"
            ]
          },
          "metadata": {
            "tags": []
          },
          "execution_count": 300
        }
      ]
    },
    {
      "cell_type": "code",
      "metadata": {
        "id": "b_71s5td51aW",
        "outputId": "29b6162c-fc15-4eab-b2d6-ed3d457e099d",
        "colab": {
          "base_uri": "https://localhost:8080/",
          "height": 34
        }
      },
      "source": [
        "# 3. Correct data format\n",
        "\n",
        "df['Roll no.'].dtypes"
      ],
      "execution_count": 301,
      "outputs": [
        {
          "output_type": "execute_result",
          "data": {
            "text/plain": [
              "dtype('float64')"
            ]
          },
          "metadata": {
            "tags": []
          },
          "execution_count": 301
        }
      ]
    },
    {
      "cell_type": "code",
      "metadata": {
        "id": "BsdfJ9lr5_2J"
      },
      "source": [
        "df['Roll no.'] = df['Roll no.'].astype('int')"
      ],
      "execution_count": 302,
      "outputs": []
    },
    {
      "cell_type": "code",
      "metadata": {
        "id": "TJuUACul6BdE",
        "outputId": "c3a7ac4d-2e3e-4c2b-fea2-80b314b21037",
        "colab": {
          "base_uri": "https://localhost:8080/",
          "height": 34
        }
      },
      "source": [
        "df['Roll no.'].dtype"
      ],
      "execution_count": 303,
      "outputs": [
        {
          "output_type": "execute_result",
          "data": {
            "text/plain": [
              "dtype('int64')"
            ]
          },
          "metadata": {
            "tags": []
          },
          "execution_count": 303
        }
      ]
    },
    {
      "cell_type": "code",
      "metadata": {
        "id": "5GsMowRz6JHm",
        "outputId": "df1c8287-55de-46a9-ea56-fc9117a86278",
        "colab": {
          "base_uri": "https://localhost:8080/",
          "height": 34
        }
      },
      "source": [
        "# Indicator variable (or dummy variable)\n",
        "df['Gender'].unique()"
      ],
      "execution_count": 304,
      "outputs": [
        {
          "output_type": "execute_result",
          "data": {
            "text/plain": [
              "array(['Female', 'Male', 'M', 'F'], dtype=object)"
            ]
          },
          "metadata": {
            "tags": []
          },
          "execution_count": 304
        }
      ]
    },
    {
      "cell_type": "code",
      "metadata": {
        "id": "fQmS4V_96TkZ",
        "outputId": "ec214493-1ec2-4ac4-cacb-831ba0c4439e",
        "colab": {
          "base_uri": "https://localhost:8080/",
          "height": 415
        }
      },
      "source": [
        "dummy_variable = pd.get_dummies(df[\"Gender\"], prefix=\"Gender\")\n",
        "dummy_variable"
      ],
      "execution_count": 305,
      "outputs": [
        {
          "output_type": "execute_result",
          "data": {
            "text/html": [
              "<div>\n",
              "<style scoped>\n",
              "    .dataframe tbody tr th:only-of-type {\n",
              "        vertical-align: middle;\n",
              "    }\n",
              "\n",
              "    .dataframe tbody tr th {\n",
              "        vertical-align: top;\n",
              "    }\n",
              "\n",
              "    .dataframe thead th {\n",
              "        text-align: right;\n",
              "    }\n",
              "</style>\n",
              "<table border=\"1\" class=\"dataframe\">\n",
              "  <thead>\n",
              "    <tr style=\"text-align: right;\">\n",
              "      <th></th>\n",
              "      <th>Gender_F</th>\n",
              "      <th>Gender_Female</th>\n",
              "      <th>Gender_M</th>\n",
              "      <th>Gender_Male</th>\n",
              "    </tr>\n",
              "  </thead>\n",
              "  <tbody>\n",
              "    <tr>\n",
              "      <th>0</th>\n",
              "      <td>0</td>\n",
              "      <td>1</td>\n",
              "      <td>0</td>\n",
              "      <td>0</td>\n",
              "    </tr>\n",
              "    <tr>\n",
              "      <th>1</th>\n",
              "      <td>0</td>\n",
              "      <td>0</td>\n",
              "      <td>0</td>\n",
              "      <td>1</td>\n",
              "    </tr>\n",
              "    <tr>\n",
              "      <th>2</th>\n",
              "      <td>0</td>\n",
              "      <td>1</td>\n",
              "      <td>0</td>\n",
              "      <td>0</td>\n",
              "    </tr>\n",
              "    <tr>\n",
              "      <th>3</th>\n",
              "      <td>0</td>\n",
              "      <td>0</td>\n",
              "      <td>0</td>\n",
              "      <td>1</td>\n",
              "    </tr>\n",
              "    <tr>\n",
              "      <th>4</th>\n",
              "      <td>0</td>\n",
              "      <td>0</td>\n",
              "      <td>0</td>\n",
              "      <td>1</td>\n",
              "    </tr>\n",
              "    <tr>\n",
              "      <th>...</th>\n",
              "      <td>...</td>\n",
              "      <td>...</td>\n",
              "      <td>...</td>\n",
              "      <td>...</td>\n",
              "    </tr>\n",
              "    <tr>\n",
              "      <th>173</th>\n",
              "      <td>1</td>\n",
              "      <td>0</td>\n",
              "      <td>0</td>\n",
              "      <td>0</td>\n",
              "    </tr>\n",
              "    <tr>\n",
              "      <th>174</th>\n",
              "      <td>0</td>\n",
              "      <td>0</td>\n",
              "      <td>1</td>\n",
              "      <td>0</td>\n",
              "    </tr>\n",
              "    <tr>\n",
              "      <th>175</th>\n",
              "      <td>0</td>\n",
              "      <td>0</td>\n",
              "      <td>1</td>\n",
              "      <td>0</td>\n",
              "    </tr>\n",
              "    <tr>\n",
              "      <th>176</th>\n",
              "      <td>0</td>\n",
              "      <td>0</td>\n",
              "      <td>1</td>\n",
              "      <td>0</td>\n",
              "    </tr>\n",
              "    <tr>\n",
              "      <th>177</th>\n",
              "      <td>0</td>\n",
              "      <td>0</td>\n",
              "      <td>1</td>\n",
              "      <td>0</td>\n",
              "    </tr>\n",
              "  </tbody>\n",
              "</table>\n",
              "<p>169 rows × 4 columns</p>\n",
              "</div>"
            ],
            "text/plain": [
              "     Gender_F  Gender_Female  Gender_M  Gender_Male\n",
              "0           0              1         0            0\n",
              "1           0              0         0            1\n",
              "2           0              1         0            0\n",
              "3           0              0         0            1\n",
              "4           0              0         0            1\n",
              "..        ...            ...       ...          ...\n",
              "173         1              0         0            0\n",
              "174         0              0         1            0\n",
              "175         0              0         1            0\n",
              "176         0              0         1            0\n",
              "177         0              0         1            0\n",
              "\n",
              "[169 rows x 4 columns]"
            ]
          },
          "metadata": {
            "tags": []
          },
          "execution_count": 305
        }
      ]
    },
    {
      "cell_type": "code",
      "metadata": {
        "id": "DeIY8CIb6gFA",
        "outputId": "25197837-1e4b-4770-c81c-f35c0ea8e54e",
        "colab": {
          "base_uri": "https://localhost:8080/",
          "height": 415
        }
      },
      "source": [
        "#LabelEncoder\n",
        "\n",
        "from sklearn.preprocessing import LabelEncoder\n",
        "\n",
        "# creating instance of labelencoder\n",
        "labelencoder = LabelEncoder()\n",
        "# Assigning numerical values and storing in the column itself\n",
        "df['Subject Code'] = labelencoder.fit_transform(df['Subject Code'].astype(str))\n",
        "df"
      ],
      "execution_count": 306,
      "outputs": [
        {
          "output_type": "execute_result",
          "data": {
            "text/html": [
              "<div>\n",
              "<style scoped>\n",
              "    .dataframe tbody tr th:only-of-type {\n",
              "        vertical-align: middle;\n",
              "    }\n",
              "\n",
              "    .dataframe tbody tr th {\n",
              "        vertical-align: top;\n",
              "    }\n",
              "\n",
              "    .dataframe thead th {\n",
              "        text-align: right;\n",
              "    }\n",
              "</style>\n",
              "<table border=\"1\" class=\"dataframe\">\n",
              "  <thead>\n",
              "    <tr style=\"text-align: right;\">\n",
              "      <th></th>\n",
              "      <th>1st</th>\n",
              "      <th>2nd</th>\n",
              "      <th>3rd</th>\n",
              "      <th>4th</th>\n",
              "      <th>5th</th>\n",
              "      <th>College Code</th>\n",
              "      <th>Gender</th>\n",
              "      <th>Roll no.</th>\n",
              "      <th>Subject Code</th>\n",
              "    </tr>\n",
              "  </thead>\n",
              "  <tbody>\n",
              "    <tr>\n",
              "      <th>0</th>\n",
              "      <td>8.11</td>\n",
              "      <td>7.68</td>\n",
              "      <td>7.11</td>\n",
              "      <td>7.43</td>\n",
              "      <td>8.18</td>\n",
              "      <td>115</td>\n",
              "      <td>Female</td>\n",
              "      <td>17020</td>\n",
              "      <td>0</td>\n",
              "    </tr>\n",
              "    <tr>\n",
              "      <th>1</th>\n",
              "      <td>6.48</td>\n",
              "      <td>5.90</td>\n",
              "      <td>4.15</td>\n",
              "      <td>4.29</td>\n",
              "      <td>4.96</td>\n",
              "      <td>115</td>\n",
              "      <td>Male</td>\n",
              "      <td>17021</td>\n",
              "      <td>0</td>\n",
              "    </tr>\n",
              "    <tr>\n",
              "      <th>2</th>\n",
              "      <td>8.41</td>\n",
              "      <td>8.24</td>\n",
              "      <td>7.52</td>\n",
              "      <td>8.25</td>\n",
              "      <td>7.75</td>\n",
              "      <td>115</td>\n",
              "      <td>Female</td>\n",
              "      <td>17022</td>\n",
              "      <td>0</td>\n",
              "    </tr>\n",
              "    <tr>\n",
              "      <th>3</th>\n",
              "      <td>7.33</td>\n",
              "      <td>6.83</td>\n",
              "      <td>6.33</td>\n",
              "      <td>6.79</td>\n",
              "      <td>6.89</td>\n",
              "      <td>115</td>\n",
              "      <td>Male</td>\n",
              "      <td>17023</td>\n",
              "      <td>0</td>\n",
              "    </tr>\n",
              "    <tr>\n",
              "      <th>4</th>\n",
              "      <td>7.89</td>\n",
              "      <td>7.34</td>\n",
              "      <td>7.22</td>\n",
              "      <td>7.32</td>\n",
              "      <td>7.46</td>\n",
              "      <td>115</td>\n",
              "      <td>Male</td>\n",
              "      <td>17024</td>\n",
              "      <td>0</td>\n",
              "    </tr>\n",
              "    <tr>\n",
              "      <th>...</th>\n",
              "      <td>...</td>\n",
              "      <td>...</td>\n",
              "      <td>...</td>\n",
              "      <td>...</td>\n",
              "      <td>...</td>\n",
              "      <td>...</td>\n",
              "      <td>...</td>\n",
              "      <td>...</td>\n",
              "      <td>...</td>\n",
              "    </tr>\n",
              "    <tr>\n",
              "      <th>173</th>\n",
              "      <td>7.48</td>\n",
              "      <td>7.55</td>\n",
              "      <td>7.67</td>\n",
              "      <td>7.39</td>\n",
              "      <td>8.65</td>\n",
              "      <td>241</td>\n",
              "      <td>F</td>\n",
              "      <td>17042</td>\n",
              "      <td>1</td>\n",
              "    </tr>\n",
              "    <tr>\n",
              "      <th>174</th>\n",
              "      <td>7.30</td>\n",
              "      <td>6.41</td>\n",
              "      <td>6.59</td>\n",
              "      <td>7.11</td>\n",
              "      <td>7.38</td>\n",
              "      <td>241</td>\n",
              "      <td>M</td>\n",
              "      <td>17042</td>\n",
              "      <td>1</td>\n",
              "    </tr>\n",
              "    <tr>\n",
              "      <th>175</th>\n",
              "      <td>6.30</td>\n",
              "      <td>6.28</td>\n",
              "      <td>5.89</td>\n",
              "      <td>5.71</td>\n",
              "      <td>6.50</td>\n",
              "      <td>241</td>\n",
              "      <td>M</td>\n",
              "      <td>17042</td>\n",
              "      <td>1</td>\n",
              "    </tr>\n",
              "    <tr>\n",
              "      <th>176</th>\n",
              "      <td>7.04</td>\n",
              "      <td>7.10</td>\n",
              "      <td>6.81</td>\n",
              "      <td>7.00</td>\n",
              "      <td>6.92</td>\n",
              "      <td>241</td>\n",
              "      <td>M</td>\n",
              "      <td>17042</td>\n",
              "      <td>1</td>\n",
              "    </tr>\n",
              "    <tr>\n",
              "      <th>177</th>\n",
              "      <td>6.70</td>\n",
              "      <td>6.81</td>\n",
              "      <td>6.52</td>\n",
              "      <td>5.39</td>\n",
              "      <td>7.00</td>\n",
              "      <td>241</td>\n",
              "      <td>M</td>\n",
              "      <td>17042</td>\n",
              "      <td>1</td>\n",
              "    </tr>\n",
              "  </tbody>\n",
              "</table>\n",
              "<p>169 rows × 9 columns</p>\n",
              "</div>"
            ],
            "text/plain": [
              "      1st   2nd   3rd   4th   5th  College Code  Gender  Roll no.  Subject Code\n",
              "0    8.11  7.68  7.11  7.43  8.18           115  Female     17020             0\n",
              "1    6.48  5.90  4.15  4.29  4.96           115    Male     17021             0\n",
              "2    8.41  8.24  7.52  8.25  7.75           115  Female     17022             0\n",
              "3    7.33  6.83  6.33  6.79  6.89           115    Male     17023             0\n",
              "4    7.89  7.34  7.22  7.32  7.46           115    Male     17024             0\n",
              "..    ...   ...   ...   ...   ...           ...     ...       ...           ...\n",
              "173  7.48  7.55  7.67  7.39  8.65           241       F     17042             1\n",
              "174  7.30  6.41  6.59  7.11  7.38           241       M     17042             1\n",
              "175  6.30  6.28  5.89  5.71  6.50           241       M     17042             1\n",
              "176  7.04  7.10  6.81  7.00  6.92           241       M     17042             1\n",
              "177  6.70  6.81  6.52  5.39  7.00           241       M     17042             1\n",
              "\n",
              "[169 rows x 9 columns]"
            ]
          },
          "metadata": {
            "tags": []
          },
          "execution_count": 306
        }
      ]
    },
    {
      "cell_type": "code",
      "metadata": {
        "id": "oHJa1vdH6q3H",
        "outputId": "bc02c6b8-fef8-4cdf-d1b2-c7b0636627dc",
        "colab": {
          "base_uri": "https://localhost:8080/",
          "height": 415
        }
      },
      "source": [
        "# OneHotEncoder\n",
        "\n",
        "from sklearn.preprocessing import OneHotEncoder\n",
        "# creating instance of one-hot-encoder\n",
        "One_hot_encoder = OneHotEncoder(handle_unknown='ignore')\n",
        "# passing the column (label encoded values)\n",
        "enc_df = pd.DataFrame(One_hot_encoder.fit_transform(df[['College Code']]).toarray())\n",
        "enc_df"
      ],
      "execution_count": 307,
      "outputs": [
        {
          "output_type": "execute_result",
          "data": {
            "text/html": [
              "<div>\n",
              "<style scoped>\n",
              "    .dataframe tbody tr th:only-of-type {\n",
              "        vertical-align: middle;\n",
              "    }\n",
              "\n",
              "    .dataframe tbody tr th {\n",
              "        vertical-align: top;\n",
              "    }\n",
              "\n",
              "    .dataframe thead th {\n",
              "        text-align: right;\n",
              "    }\n",
              "</style>\n",
              "<table border=\"1\" class=\"dataframe\">\n",
              "  <thead>\n",
              "    <tr style=\"text-align: right;\">\n",
              "      <th></th>\n",
              "      <th>0</th>\n",
              "      <th>1</th>\n",
              "      <th>2</th>\n",
              "      <th>3</th>\n",
              "    </tr>\n",
              "  </thead>\n",
              "  <tbody>\n",
              "    <tr>\n",
              "      <th>0</th>\n",
              "      <td>1.0</td>\n",
              "      <td>0.0</td>\n",
              "      <td>0.0</td>\n",
              "      <td>0.0</td>\n",
              "    </tr>\n",
              "    <tr>\n",
              "      <th>1</th>\n",
              "      <td>1.0</td>\n",
              "      <td>0.0</td>\n",
              "      <td>0.0</td>\n",
              "      <td>0.0</td>\n",
              "    </tr>\n",
              "    <tr>\n",
              "      <th>2</th>\n",
              "      <td>1.0</td>\n",
              "      <td>0.0</td>\n",
              "      <td>0.0</td>\n",
              "      <td>0.0</td>\n",
              "    </tr>\n",
              "    <tr>\n",
              "      <th>3</th>\n",
              "      <td>1.0</td>\n",
              "      <td>0.0</td>\n",
              "      <td>0.0</td>\n",
              "      <td>0.0</td>\n",
              "    </tr>\n",
              "    <tr>\n",
              "      <th>4</th>\n",
              "      <td>1.0</td>\n",
              "      <td>0.0</td>\n",
              "      <td>0.0</td>\n",
              "      <td>0.0</td>\n",
              "    </tr>\n",
              "    <tr>\n",
              "      <th>...</th>\n",
              "      <td>...</td>\n",
              "      <td>...</td>\n",
              "      <td>...</td>\n",
              "      <td>...</td>\n",
              "    </tr>\n",
              "    <tr>\n",
              "      <th>164</th>\n",
              "      <td>0.0</td>\n",
              "      <td>0.0</td>\n",
              "      <td>0.0</td>\n",
              "      <td>1.0</td>\n",
              "    </tr>\n",
              "    <tr>\n",
              "      <th>165</th>\n",
              "      <td>0.0</td>\n",
              "      <td>0.0</td>\n",
              "      <td>0.0</td>\n",
              "      <td>1.0</td>\n",
              "    </tr>\n",
              "    <tr>\n",
              "      <th>166</th>\n",
              "      <td>0.0</td>\n",
              "      <td>0.0</td>\n",
              "      <td>0.0</td>\n",
              "      <td>1.0</td>\n",
              "    </tr>\n",
              "    <tr>\n",
              "      <th>167</th>\n",
              "      <td>0.0</td>\n",
              "      <td>0.0</td>\n",
              "      <td>0.0</td>\n",
              "      <td>1.0</td>\n",
              "    </tr>\n",
              "    <tr>\n",
              "      <th>168</th>\n",
              "      <td>0.0</td>\n",
              "      <td>0.0</td>\n",
              "      <td>0.0</td>\n",
              "      <td>1.0</td>\n",
              "    </tr>\n",
              "  </tbody>\n",
              "</table>\n",
              "<p>169 rows × 4 columns</p>\n",
              "</div>"
            ],
            "text/plain": [
              "       0    1    2    3\n",
              "0    1.0  0.0  0.0  0.0\n",
              "1    1.0  0.0  0.0  0.0\n",
              "2    1.0  0.0  0.0  0.0\n",
              "3    1.0  0.0  0.0  0.0\n",
              "4    1.0  0.0  0.0  0.0\n",
              "..   ...  ...  ...  ...\n",
              "164  0.0  0.0  0.0  1.0\n",
              "165  0.0  0.0  0.0  1.0\n",
              "166  0.0  0.0  0.0  1.0\n",
              "167  0.0  0.0  0.0  1.0\n",
              "168  0.0  0.0  0.0  1.0\n",
              "\n",
              "[169 rows x 4 columns]"
            ]
          },
          "metadata": {
            "tags": []
          },
          "execution_count": 307
        }
      ]
    },
    {
      "cell_type": "code",
      "metadata": {
        "id": "mw6G7arm7Orn"
      },
      "source": [
        "df = df.drop_duplicates()"
      ],
      "execution_count": 308,
      "outputs": []
    },
    {
      "cell_type": "code",
      "metadata": {
        "id": "C9fndPMV7Qq6",
        "outputId": "1ee52560-c1ad-46c9-8534-fcc6cba7f2ae",
        "colab": {
          "base_uri": "https://localhost:8080/",
          "height": 415
        }
      },
      "source": [
        "df"
      ],
      "execution_count": 309,
      "outputs": [
        {
          "output_type": "execute_result",
          "data": {
            "text/html": [
              "<div>\n",
              "<style scoped>\n",
              "    .dataframe tbody tr th:only-of-type {\n",
              "        vertical-align: middle;\n",
              "    }\n",
              "\n",
              "    .dataframe tbody tr th {\n",
              "        vertical-align: top;\n",
              "    }\n",
              "\n",
              "    .dataframe thead th {\n",
              "        text-align: right;\n",
              "    }\n",
              "</style>\n",
              "<table border=\"1\" class=\"dataframe\">\n",
              "  <thead>\n",
              "    <tr style=\"text-align: right;\">\n",
              "      <th></th>\n",
              "      <th>1st</th>\n",
              "      <th>2nd</th>\n",
              "      <th>3rd</th>\n",
              "      <th>4th</th>\n",
              "      <th>5th</th>\n",
              "      <th>College Code</th>\n",
              "      <th>Gender</th>\n",
              "      <th>Roll no.</th>\n",
              "      <th>Subject Code</th>\n",
              "    </tr>\n",
              "  </thead>\n",
              "  <tbody>\n",
              "    <tr>\n",
              "      <th>0</th>\n",
              "      <td>8.11</td>\n",
              "      <td>7.68</td>\n",
              "      <td>7.11</td>\n",
              "      <td>7.43</td>\n",
              "      <td>8.18</td>\n",
              "      <td>115</td>\n",
              "      <td>Female</td>\n",
              "      <td>17020</td>\n",
              "      <td>0</td>\n",
              "    </tr>\n",
              "    <tr>\n",
              "      <th>1</th>\n",
              "      <td>6.48</td>\n",
              "      <td>5.90</td>\n",
              "      <td>4.15</td>\n",
              "      <td>4.29</td>\n",
              "      <td>4.96</td>\n",
              "      <td>115</td>\n",
              "      <td>Male</td>\n",
              "      <td>17021</td>\n",
              "      <td>0</td>\n",
              "    </tr>\n",
              "    <tr>\n",
              "      <th>2</th>\n",
              "      <td>8.41</td>\n",
              "      <td>8.24</td>\n",
              "      <td>7.52</td>\n",
              "      <td>8.25</td>\n",
              "      <td>7.75</td>\n",
              "      <td>115</td>\n",
              "      <td>Female</td>\n",
              "      <td>17022</td>\n",
              "      <td>0</td>\n",
              "    </tr>\n",
              "    <tr>\n",
              "      <th>3</th>\n",
              "      <td>7.33</td>\n",
              "      <td>6.83</td>\n",
              "      <td>6.33</td>\n",
              "      <td>6.79</td>\n",
              "      <td>6.89</td>\n",
              "      <td>115</td>\n",
              "      <td>Male</td>\n",
              "      <td>17023</td>\n",
              "      <td>0</td>\n",
              "    </tr>\n",
              "    <tr>\n",
              "      <th>4</th>\n",
              "      <td>7.89</td>\n",
              "      <td>7.34</td>\n",
              "      <td>7.22</td>\n",
              "      <td>7.32</td>\n",
              "      <td>7.46</td>\n",
              "      <td>115</td>\n",
              "      <td>Male</td>\n",
              "      <td>17024</td>\n",
              "      <td>0</td>\n",
              "    </tr>\n",
              "    <tr>\n",
              "      <th>...</th>\n",
              "      <td>...</td>\n",
              "      <td>...</td>\n",
              "      <td>...</td>\n",
              "      <td>...</td>\n",
              "      <td>...</td>\n",
              "      <td>...</td>\n",
              "      <td>...</td>\n",
              "      <td>...</td>\n",
              "      <td>...</td>\n",
              "    </tr>\n",
              "    <tr>\n",
              "      <th>173</th>\n",
              "      <td>7.48</td>\n",
              "      <td>7.55</td>\n",
              "      <td>7.67</td>\n",
              "      <td>7.39</td>\n",
              "      <td>8.65</td>\n",
              "      <td>241</td>\n",
              "      <td>F</td>\n",
              "      <td>17042</td>\n",
              "      <td>1</td>\n",
              "    </tr>\n",
              "    <tr>\n",
              "      <th>174</th>\n",
              "      <td>7.30</td>\n",
              "      <td>6.41</td>\n",
              "      <td>6.59</td>\n",
              "      <td>7.11</td>\n",
              "      <td>7.38</td>\n",
              "      <td>241</td>\n",
              "      <td>M</td>\n",
              "      <td>17042</td>\n",
              "      <td>1</td>\n",
              "    </tr>\n",
              "    <tr>\n",
              "      <th>175</th>\n",
              "      <td>6.30</td>\n",
              "      <td>6.28</td>\n",
              "      <td>5.89</td>\n",
              "      <td>5.71</td>\n",
              "      <td>6.50</td>\n",
              "      <td>241</td>\n",
              "      <td>M</td>\n",
              "      <td>17042</td>\n",
              "      <td>1</td>\n",
              "    </tr>\n",
              "    <tr>\n",
              "      <th>176</th>\n",
              "      <td>7.04</td>\n",
              "      <td>7.10</td>\n",
              "      <td>6.81</td>\n",
              "      <td>7.00</td>\n",
              "      <td>6.92</td>\n",
              "      <td>241</td>\n",
              "      <td>M</td>\n",
              "      <td>17042</td>\n",
              "      <td>1</td>\n",
              "    </tr>\n",
              "    <tr>\n",
              "      <th>177</th>\n",
              "      <td>6.70</td>\n",
              "      <td>6.81</td>\n",
              "      <td>6.52</td>\n",
              "      <td>5.39</td>\n",
              "      <td>7.00</td>\n",
              "      <td>241</td>\n",
              "      <td>M</td>\n",
              "      <td>17042</td>\n",
              "      <td>1</td>\n",
              "    </tr>\n",
              "  </tbody>\n",
              "</table>\n",
              "<p>169 rows × 9 columns</p>\n",
              "</div>"
            ],
            "text/plain": [
              "      1st   2nd   3rd   4th   5th  College Code  Gender  Roll no.  Subject Code\n",
              "0    8.11  7.68  7.11  7.43  8.18           115  Female     17020             0\n",
              "1    6.48  5.90  4.15  4.29  4.96           115    Male     17021             0\n",
              "2    8.41  8.24  7.52  8.25  7.75           115  Female     17022             0\n",
              "3    7.33  6.83  6.33  6.79  6.89           115    Male     17023             0\n",
              "4    7.89  7.34  7.22  7.32  7.46           115    Male     17024             0\n",
              "..    ...   ...   ...   ...   ...           ...     ...       ...           ...\n",
              "173  7.48  7.55  7.67  7.39  8.65           241       F     17042             1\n",
              "174  7.30  6.41  6.59  7.11  7.38           241       M     17042             1\n",
              "175  6.30  6.28  5.89  5.71  6.50           241       M     17042             1\n",
              "176  7.04  7.10  6.81  7.00  6.92           241       M     17042             1\n",
              "177  6.70  6.81  6.52  5.39  7.00           241       M     17042             1\n",
              "\n",
              "[169 rows x 9 columns]"
            ]
          },
          "metadata": {
            "tags": []
          },
          "execution_count": 309
        }
      ]
    },
    {
      "cell_type": "code",
      "metadata": {
        "id": "ZxmUjpSc7lul",
        "outputId": "7b7e0c66-46cb-43a1-b6f7-bae665baddf5",
        "colab": {
          "base_uri": "https://localhost:8080/",
          "height": 34
        }
      },
      "source": [
        "df['Gender'].unique()"
      ],
      "execution_count": 310,
      "outputs": [
        {
          "output_type": "execute_result",
          "data": {
            "text/plain": [
              "array(['Female', 'Male', 'M', 'F'], dtype=object)"
            ]
          },
          "metadata": {
            "tags": []
          },
          "execution_count": 310
        }
      ]
    },
    {
      "cell_type": "code",
      "metadata": {
        "id": "d_JvIwYv7n9N"
      },
      "source": [
        "df.replace(\"Female\", 'F', inplace = True)\n",
        "df.replace(\"Male\", 'M', inplace = True)\n",
        "df.replace(\"M\", 'M', inplace = True)\n",
        "df.replace(\"F\", 'F', inplace = True)"
      ],
      "execution_count": 311,
      "outputs": []
    },
    {
      "cell_type": "code",
      "metadata": {
        "id": "fX_L1siZ8Q9R",
        "outputId": "5dc3cd86-517b-4f8f-cb12-def857f88c90",
        "colab": {
          "base_uri": "https://localhost:8080/",
          "height": 34
        }
      },
      "source": [
        "df['Gender'].unique()"
      ],
      "execution_count": 312,
      "outputs": [
        {
          "output_type": "execute_result",
          "data": {
            "text/plain": [
              "array(['F', 'M'], dtype=object)"
            ]
          },
          "metadata": {
            "tags": []
          },
          "execution_count": 312
        }
      ]
    },
    {
      "cell_type": "markdown",
      "metadata": {
        "id": "KeGfnA_H8rWA"
      },
      "source": [
        "*Data Normalization*\n"
      ]
    },
    {
      "cell_type": "markdown",
      "metadata": {
        "id": "nNOM6irIVg1L"
      },
      "source": [
        "#Discover and Visualize Data to Gain Insight "
      ]
    },
    {
      "cell_type": "code",
      "metadata": {
        "id": "zKG5m_uq9q4N",
        "outputId": "4078e2ac-89fc-47e5-8fab-157a9f5c9439",
        "colab": {
          "base_uri": "https://localhost:8080/",
          "height": 296
        }
      },
      "source": [
        "sns.countplot(x='College Code',data=df, palette='hls')\n"
      ],
      "execution_count": 313,
      "outputs": [
        {
          "output_type": "execute_result",
          "data": {
            "text/plain": [
              "<matplotlib.axes._subplots.AxesSubplot at 0x7f16df0d0eb8>"
            ]
          },
          "metadata": {
            "tags": []
          },
          "execution_count": 313
        },
        {
          "output_type": "display_data",
          "data": {
            "image/png": "[encoded data removed]",
            "text/plain": [
              "<Figure size 432x288 with 1 Axes>"
            ]
          },
          "metadata": {
            "tags": [],
            "needs_background": "light"
          }
        }
      ]
    },
    {
      "cell_type": "code",
      "metadata": {
        "id": "lIX_T0AA9zWN",
        "outputId": "30496a5c-6dfd-4d3c-9daa-010055dd2d4a",
        "colab": {
          "base_uri": "https://localhost:8080/",
          "height": 383
        }
      },
      "source": [
        "# show all data (not string or opject)\n",
        "df.hist(bins=30,figsize=(30,15))\n",
        "plt.show()"
      ],
      "execution_count": 314,
      "outputs": [
        {
          "output_type": "display_data",
          "data": {
            "image/png": "[encoded data removed]",
            "text/plain": [
              "<Figure size 2160x1080 with 9 Axes>"
            ]
          },
          "metadata": {
            "tags": [],
            "needs_background": "light"
          }
        }
      ]
    },
    {
      "cell_type": "code",
      "metadata": {
        "id": "N0yePNqM94Ig",
        "outputId": "ad94d2f9-d2c4-45a2-f9c7-44e72fa7c7ab",
        "colab": {
          "base_uri": "https://localhost:8080/",
          "height": 279
        }
      },
      "source": [
        "\n",
        "plt.figure(figsize=(10, 4))\n",
        "sns.stripplot(x=\"College Code\", y=\"Roll no.\", data=df);"
      ],
      "execution_count": 315,
      "outputs": [
        {
          "output_type": "display_data",
          "data": {
            "image/png": "[encoded data removed]",
            "text/plain": [
              "<Figure size 720x288 with 1 Axes>"
            ]
          },
          "metadata": {
            "tags": [],
            "needs_background": "light"
          }
        }
      ]
    },
    {
      "cell_type": "code",
      "metadata": {
        "id": "9GB_dS_H-QM3",
        "outputId": "db8c5dbd-5209-4739-809d-7b170ecd0ba2",
        "colab": {
          "base_uri": "https://localhost:8080/",
          "height": 366
        }
      },
      "source": [
        "plt.figure(figsize=(22,10))\n",
        "\n",
        "plt.subplot(231)#subplot to add a subplot to the current figure\n",
        "sns.regplot(x='College Code', y='Roll no.', data=df,  line_kws={'color': 'red'}) \n",
        "\n",
        "plt.subplot(232)\n",
        "sns.regplot(x='1st', y='Roll no.', data=df , line_kws={'color': 'red'})\n",
        "                    \n",
        "plt.subplot(233)\n",
        "sns.regplot(x='2nd', y='Roll no.', data=df,  line_kws={'color': 'red'})\n",
        "\n",
        "plt.subplot(234)\n",
        "sns.regplot(x='3rd', y='Roll no.', data=df , line_kws={'color': 'red'})\n",
        "          \n",
        "plt.subplot(235)\n",
        "sns.regplot(x='4th', y='Roll no.', data=df , line_kws={'color': 'red'})\n",
        "\n",
        "plt.subplot(236)\n",
        "sns.regplot(x='5th', y='Roll no.', data=df , line_kws={'color': 'red'})"
      ],
      "execution_count": 316,
      "outputs": [
        {
          "output_type": "execute_result",
          "data": {
            "text/plain": [
              "<matplotlib.axes._subplots.AxesSubplot at 0x7f16df7cc5c0>"
            ]
          },
          "metadata": {
            "tags": []
          },
          "execution_count": 316
        },
        {
          "output_type": "display_data",
          "data": {
            "image/png": "[encoded data removed]",
            "text/plain": [
              "<Figure size 1584x720 with 6 Axes>"
            ]
          },
          "metadata": {
            "tags": [],
            "needs_background": "light"
          }
        }
      ]
    },
    {
      "cell_type": "markdown",
      "metadata": {
        "id": "rHjK0ptxVrGy"
      },
      "source": [
        "#Looking for correlations"
      ]
    },
    {
      "cell_type": "code",
      "metadata": {
        "id": "WuhqGHkE_fTa",
        "outputId": "11d5f06e-610d-4d08-9bc8-a102f36b8b0e",
        "colab": {
          "base_uri": "https://localhost:8080/",
          "height": 802
        }
      },
      "source": [
        "plt.figure(figsize=(15,15))\n",
        "sns.heatmap(df.corr())"
      ],
      "execution_count": 317,
      "outputs": [
        {
          "output_type": "execute_result",
          "data": {
            "text/plain": [
              "<matplotlib.axes._subplots.AxesSubplot at 0x7f16df0994a8>"
            ]
          },
          "metadata": {
            "tags": []
          },
          "execution_count": 317
        },
        {
          "output_type": "display_data",
          "data": {
            "image/png": "[encoded data removed]",
            "text/plain": [
              "<Figure size 1080x1080 with 2 Axes>"
            ]
          },
          "metadata": {
            "tags": [],
            "needs_background": "light"
          }
        }
      ]
    },
    {
      "cell_type": "code",
      "metadata": {
        "id": "NWbeTu0z_jWX",
        "outputId": "6cd2ff86-516a-4a97-fadf-07da0cefe030",
        "colab": {
          "base_uri": "https://localhost:8080/",
          "height": 331
        }
      },
      "source": [
        "df.describe()"
      ],
      "execution_count": 318,
      "outputs": [
        {
          "output_type": "execute_result",
          "data": {
            "text/html": [
              "<div>\n",
              "<style scoped>\n",
              "    .dataframe tbody tr th:only-of-type {\n",
              "        vertical-align: middle;\n",
              "    }\n",
              "\n",
              "    .dataframe tbody tr th {\n",
              "        vertical-align: top;\n",
              "    }\n",
              "\n",
              "    .dataframe thead th {\n",
              "        text-align: right;\n",
              "    }\n",
              "</style>\n",
              "<table border=\"1\" class=\"dataframe\">\n",
              "  <thead>\n",
              "    <tr style=\"text-align: right;\">\n",
              "      <th></th>\n",
              "      <th>1st</th>\n",
              "      <th>2nd</th>\n",
              "      <th>3rd</th>\n",
              "      <th>4th</th>\n",
              "      <th>5th</th>\n",
              "      <th>College Code</th>\n",
              "      <th>Roll no.</th>\n",
              "      <th>Subject Code</th>\n",
              "    </tr>\n",
              "  </thead>\n",
              "  <tbody>\n",
              "    <tr>\n",
              "      <th>count</th>\n",
              "      <td>169.000000</td>\n",
              "      <td>169.000000</td>\n",
              "      <td>169.000000</td>\n",
              "      <td>169.000000</td>\n",
              "      <td>169.000000</td>\n",
              "      <td>169.000000</td>\n",
              "      <td>169.000000</td>\n",
              "      <td>169.000000</td>\n",
              "    </tr>\n",
              "    <tr>\n",
              "      <th>mean</th>\n",
              "      <td>7.090059</td>\n",
              "      <td>6.964201</td>\n",
              "      <td>6.641953</td>\n",
              "      <td>7.045562</td>\n",
              "      <td>7.469586</td>\n",
              "      <td>152.023669</td>\n",
              "      <td>17042.136095</td>\n",
              "      <td>0.195266</td>\n",
              "    </tr>\n",
              "    <tr>\n",
              "      <th>std</th>\n",
              "      <td>0.792388</td>\n",
              "      <td>0.852932</td>\n",
              "      <td>0.917944</td>\n",
              "      <td>1.036915</td>\n",
              "      <td>1.020556</td>\n",
              "      <td>48.476793</td>\n",
              "      <td>6.950450</td>\n",
              "      <td>0.397584</td>\n",
              "    </tr>\n",
              "    <tr>\n",
              "      <th>min</th>\n",
              "      <td>5.110000</td>\n",
              "      <td>4.280000</td>\n",
              "      <td>3.960000</td>\n",
              "      <td>4.290000</td>\n",
              "      <td>4.770000</td>\n",
              "      <td>115.000000</td>\n",
              "      <td>17020.000000</td>\n",
              "      <td>0.000000</td>\n",
              "    </tr>\n",
              "    <tr>\n",
              "      <th>25%</th>\n",
              "      <td>6.480000</td>\n",
              "      <td>6.380000</td>\n",
              "      <td>6.190000</td>\n",
              "      <td>6.360000</td>\n",
              "      <td>6.750000</td>\n",
              "      <td>115.000000</td>\n",
              "      <td>17042.000000</td>\n",
              "      <td>0.000000</td>\n",
              "    </tr>\n",
              "    <tr>\n",
              "      <th>50%</th>\n",
              "      <td>7.110000</td>\n",
              "      <td>6.810000</td>\n",
              "      <td>6.700000</td>\n",
              "      <td>7.110000</td>\n",
              "      <td>7.610000</td>\n",
              "      <td>116.000000</td>\n",
              "      <td>17042.000000</td>\n",
              "      <td>0.000000</td>\n",
              "    </tr>\n",
              "    <tr>\n",
              "      <th>75%</th>\n",
              "      <td>7.590000</td>\n",
              "      <td>7.620000</td>\n",
              "      <td>7.260000</td>\n",
              "      <td>7.860000</td>\n",
              "      <td>8.210000</td>\n",
              "      <td>165.000000</td>\n",
              "      <td>17042.000000</td>\n",
              "      <td>0.000000</td>\n",
              "    </tr>\n",
              "    <tr>\n",
              "      <th>max</th>\n",
              "      <td>9.150000</td>\n",
              "      <td>9.210000</td>\n",
              "      <td>9.590000</td>\n",
              "      <td>9.310000</td>\n",
              "      <td>9.460000</td>\n",
              "      <td>241.000000</td>\n",
              "      <td>17065.000000</td>\n",
              "      <td>1.000000</td>\n",
              "    </tr>\n",
              "  </tbody>\n",
              "</table>\n",
              "</div>"
            ],
            "text/plain": [
              "              1st         2nd  ...      Roll no.  Subject Code\n",
              "count  169.000000  169.000000  ...    169.000000    169.000000\n",
              "mean     7.090059    6.964201  ...  17042.136095      0.195266\n",
              "std      0.792388    0.852932  ...      6.950450      0.397584\n",
              "min      5.110000    4.280000  ...  17020.000000      0.000000\n",
              "25%      6.480000    6.380000  ...  17042.000000      0.000000\n",
              "50%      7.110000    6.810000  ...  17042.000000      0.000000\n",
              "75%      7.590000    7.620000  ...  17042.000000      0.000000\n",
              "max      9.150000    9.210000  ...  17065.000000      1.000000\n",
              "\n",
              "[8 rows x 8 columns]"
            ]
          },
          "metadata": {
            "tags": []
          },
          "execution_count": 318
        }
      ]
    },
    {
      "cell_type": "code",
      "metadata": {
        "id": "LjL0u5fvAFdJ"
      },
      "source": [
        "df['Avg']=(df['1st']+df['2nd']+df['3rd']+df['4th']+df['5th'])/5"
      ],
      "execution_count": 319,
      "outputs": []
    },
    {
      "cell_type": "code",
      "metadata": {
        "id": "Dy0TpF7TAI0Y"
      },
      "source": [
        "df['College Code']=df['College Code'].astype(str)\n",
        "df['Subject Code']=df['Subject Code'].astype(str)\n",
        "df['Roll no.']=df['Roll no.'].astype(str)"
      ],
      "execution_count": 320,
      "outputs": []
    },
    {
      "cell_type": "code",
      "metadata": {
        "id": "XQ3EjI9nAK8T"
      },
      "source": [
        "df['StudentID']=df['College Code']+df['Subject Code']+df['Roll no.']"
      ],
      "execution_count": 321,
      "outputs": []
    },
    {
      "cell_type": "code",
      "metadata": {
        "id": "mGwLy1AkAMX7"
      },
      "source": [
        "df.drop(columns=['Subject Code','Roll no.'],inplace=True)"
      ],
      "execution_count": 322,
      "outputs": []
    },
    {
      "cell_type": "code",
      "metadata": {
        "id": "JlTL1x4TANvb",
        "outputId": "eed9183e-259c-4442-a3b1-12fea2dbb438",
        "colab": {
          "base_uri": "https://localhost:8080/",
          "height": 294
        }
      },
      "source": [
        "df.info()"
      ],
      "execution_count": 323,
      "outputs": [
        {
          "output_type": "stream",
          "text": [
            "<class 'pandas.core.frame.DataFrame'>\n",
            "Int64Index: 169 entries, 0 to 177\n",
            "Data columns (total 9 columns):\n",
            " #   Column        Non-Null Count  Dtype  \n",
            "---  ------        --------------  -----  \n",
            " 0   1st           169 non-null    float64\n",
            " 1   2nd           169 non-null    float64\n",
            " 2   3rd           169 non-null    float64\n",
            " 3   4th           169 non-null    float64\n",
            " 4   5th           169 non-null    float64\n",
            " 5   College Code  169 non-null    object \n",
            " 6   Gender        169 non-null    object \n",
            " 7   Avg           169 non-null    float64\n",
            " 8   StudentID     169 non-null    object \n",
            "dtypes: float64(6), object(3)\n",
            "memory usage: 18.2+ KB\n"
          ],
          "name": "stdout"
        }
      ]
    },
    {
      "cell_type": "code",
      "metadata": {
        "id": "MB63nAlWARy5",
        "outputId": "dcd554fb-ce22-43f0-8a40-36d6e96124f1",
        "colab": {
          "base_uri": "https://localhost:8080/",
          "height": 202
        }
      },
      "source": [
        "df.head()"
      ],
      "execution_count": 324,
      "outputs": [
        {
          "output_type": "execute_result",
          "data": {
            "text/html": [
              "<div>\n",
              "<style scoped>\n",
              "    .dataframe tbody tr th:only-of-type {\n",
              "        vertical-align: middle;\n",
              "    }\n",
              "\n",
              "    .dataframe tbody tr th {\n",
              "        vertical-align: top;\n",
              "    }\n",
              "\n",
              "    .dataframe thead th {\n",
              "        text-align: right;\n",
              "    }\n",
              "</style>\n",
              "<table border=\"1\" class=\"dataframe\">\n",
              "  <thead>\n",
              "    <tr style=\"text-align: right;\">\n",
              "      <th></th>\n",
              "      <th>1st</th>\n",
              "      <th>2nd</th>\n",
              "      <th>3rd</th>\n",
              "      <th>4th</th>\n",
              "      <th>5th</th>\n",
              "      <th>College Code</th>\n",
              "      <th>Gender</th>\n",
              "      <th>Avg</th>\n",
              "      <th>StudentID</th>\n",
              "    </tr>\n",
              "  </thead>\n",
              "  <tbody>\n",
              "    <tr>\n",
              "      <th>0</th>\n",
              "      <td>8.11</td>\n",
              "      <td>7.68</td>\n",
              "      <td>7.11</td>\n",
              "      <td>7.43</td>\n",
              "      <td>8.18</td>\n",
              "      <td>115</td>\n",
              "      <td>F</td>\n",
              "      <td>7.702</td>\n",
              "      <td>115017020</td>\n",
              "    </tr>\n",
              "    <tr>\n",
              "      <th>1</th>\n",
              "      <td>6.48</td>\n",
              "      <td>5.90</td>\n",
              "      <td>4.15</td>\n",
              "      <td>4.29</td>\n",
              "      <td>4.96</td>\n",
              "      <td>115</td>\n",
              "      <td>M</td>\n",
              "      <td>5.156</td>\n",
              "      <td>115017021</td>\n",
              "    </tr>\n",
              "    <tr>\n",
              "      <th>2</th>\n",
              "      <td>8.41</td>\n",
              "      <td>8.24</td>\n",
              "      <td>7.52</td>\n",
              "      <td>8.25</td>\n",
              "      <td>7.75</td>\n",
              "      <td>115</td>\n",
              "      <td>F</td>\n",
              "      <td>8.034</td>\n",
              "      <td>115017022</td>\n",
              "    </tr>\n",
              "    <tr>\n",
              "      <th>3</th>\n",
              "      <td>7.33</td>\n",
              "      <td>6.83</td>\n",
              "      <td>6.33</td>\n",
              "      <td>6.79</td>\n",
              "      <td>6.89</td>\n",
              "      <td>115</td>\n",
              "      <td>M</td>\n",
              "      <td>6.834</td>\n",
              "      <td>115017023</td>\n",
              "    </tr>\n",
              "    <tr>\n",
              "      <th>4</th>\n",
              "      <td>7.89</td>\n",
              "      <td>7.34</td>\n",
              "      <td>7.22</td>\n",
              "      <td>7.32</td>\n",
              "      <td>7.46</td>\n",
              "      <td>115</td>\n",
              "      <td>M</td>\n",
              "      <td>7.446</td>\n",
              "      <td>115017024</td>\n",
              "    </tr>\n",
              "  </tbody>\n",
              "</table>\n",
              "</div>"
            ],
            "text/plain": [
              "    1st   2nd   3rd   4th   5th College Code Gender    Avg  StudentID\n",
              "0  8.11  7.68  7.11  7.43  8.18          115      F  7.702  115017020\n",
              "1  6.48  5.90  4.15  4.29  4.96          115      M  5.156  115017021\n",
              "2  8.41  8.24  7.52  8.25  7.75          115      F  8.034  115017022\n",
              "3  7.33  6.83  6.33  6.79  6.89          115      M  6.834  115017023\n",
              "4  7.89  7.34  7.22  7.32  7.46          115      M  7.446  115017024"
            ]
          },
          "metadata": {
            "tags": []
          },
          "execution_count": 324
        }
      ]
    },
    {
      "cell_type": "code",
      "metadata": {
        "id": "pQllC0r7CWqt",
        "outputId": "a0b305a5-49fa-4a53-b133-a8f5f951fceb",
        "colab": {
          "base_uri": "https://localhost:8080/",
          "height": 69
        }
      },
      "source": [
        "df.columns"
      ],
      "execution_count": 325,
      "outputs": [
        {
          "output_type": "execute_result",
          "data": {
            "text/plain": [
              "Index(['1st', '2nd', '3rd', '4th', '5th', 'College Code', 'Gender', 'Avg',\n",
              "       'StudentID'],\n",
              "      dtype='object')"
            ]
          },
          "metadata": {
            "tags": []
          },
          "execution_count": 325
        }
      ]
    },
    {
      "cell_type": "code",
      "metadata": {
        "id": "xicCMFujCawh",
        "outputId": "3753453b-804b-4fb1-b827-81383ec6f71e",
        "colab": {
          "base_uri": "https://localhost:8080/",
          "height": 415
        }
      },
      "source": [
        "selected_features = ['1st','2nd','3rd','4th','5th','College Code','StudentID','Avg']\n",
        "df_final = df[selected_features]\n",
        "df_final"
      ],
      "execution_count": 326,
      "outputs": [
        {
          "output_type": "execute_result",
          "data": {
            "text/html": [
              "<div>\n",
              "<style scoped>\n",
              "    .dataframe tbody tr th:only-of-type {\n",
              "        vertical-align: middle;\n",
              "    }\n",
              "\n",
              "    .dataframe tbody tr th {\n",
              "        vertical-align: top;\n",
              "    }\n",
              "\n",
              "    .dataframe thead th {\n",
              "        text-align: right;\n",
              "    }\n",
              "</style>\n",
              "<table border=\"1\" class=\"dataframe\">\n",
              "  <thead>\n",
              "    <tr style=\"text-align: right;\">\n",
              "      <th></th>\n",
              "      <th>1st</th>\n",
              "      <th>2nd</th>\n",
              "      <th>3rd</th>\n",
              "      <th>4th</th>\n",
              "      <th>5th</th>\n",
              "      <th>College Code</th>\n",
              "      <th>StudentID</th>\n",
              "      <th>Avg</th>\n",
              "    </tr>\n",
              "  </thead>\n",
              "  <tbody>\n",
              "    <tr>\n",
              "      <th>0</th>\n",
              "      <td>8.11</td>\n",
              "      <td>7.68</td>\n",
              "      <td>7.11</td>\n",
              "      <td>7.43</td>\n",
              "      <td>8.18</td>\n",
              "      <td>115</td>\n",
              "      <td>115017020</td>\n",
              "      <td>7.702</td>\n",
              "    </tr>\n",
              "    <tr>\n",
              "      <th>1</th>\n",
              "      <td>6.48</td>\n",
              "      <td>5.90</td>\n",
              "      <td>4.15</td>\n",
              "      <td>4.29</td>\n",
              "      <td>4.96</td>\n",
              "      <td>115</td>\n",
              "      <td>115017021</td>\n",
              "      <td>5.156</td>\n",
              "    </tr>\n",
              "    <tr>\n",
              "      <th>2</th>\n",
              "      <td>8.41</td>\n",
              "      <td>8.24</td>\n",
              "      <td>7.52</td>\n",
              "      <td>8.25</td>\n",
              "      <td>7.75</td>\n",
              "      <td>115</td>\n",
              "      <td>115017022</td>\n",
              "      <td>8.034</td>\n",
              "    </tr>\n",
              "    <tr>\n",
              "      <th>3</th>\n",
              "      <td>7.33</td>\n",
              "      <td>6.83</td>\n",
              "      <td>6.33</td>\n",
              "      <td>6.79</td>\n",
              "      <td>6.89</td>\n",
              "      <td>115</td>\n",
              "      <td>115017023</td>\n",
              "      <td>6.834</td>\n",
              "    </tr>\n",
              "    <tr>\n",
              "      <th>4</th>\n",
              "      <td>7.89</td>\n",
              "      <td>7.34</td>\n",
              "      <td>7.22</td>\n",
              "      <td>7.32</td>\n",
              "      <td>7.46</td>\n",
              "      <td>115</td>\n",
              "      <td>115017024</td>\n",
              "      <td>7.446</td>\n",
              "    </tr>\n",
              "    <tr>\n",
              "      <th>...</th>\n",
              "      <td>...</td>\n",
              "      <td>...</td>\n",
              "      <td>...</td>\n",
              "      <td>...</td>\n",
              "      <td>...</td>\n",
              "      <td>...</td>\n",
              "      <td>...</td>\n",
              "      <td>...</td>\n",
              "    </tr>\n",
              "    <tr>\n",
              "      <th>173</th>\n",
              "      <td>7.48</td>\n",
              "      <td>7.55</td>\n",
              "      <td>7.67</td>\n",
              "      <td>7.39</td>\n",
              "      <td>8.65</td>\n",
              "      <td>241</td>\n",
              "      <td>241117042</td>\n",
              "      <td>7.748</td>\n",
              "    </tr>\n",
              "    <tr>\n",
              "      <th>174</th>\n",
              "      <td>7.30</td>\n",
              "      <td>6.41</td>\n",
              "      <td>6.59</td>\n",
              "      <td>7.11</td>\n",
              "      <td>7.38</td>\n",
              "      <td>241</td>\n",
              "      <td>241117042</td>\n",
              "      <td>6.958</td>\n",
              "    </tr>\n",
              "    <tr>\n",
              "      <th>175</th>\n",
              "      <td>6.30</td>\n",
              "      <td>6.28</td>\n",
              "      <td>5.89</td>\n",
              "      <td>5.71</td>\n",
              "      <td>6.50</td>\n",
              "      <td>241</td>\n",
              "      <td>241117042</td>\n",
              "      <td>6.136</td>\n",
              "    </tr>\n",
              "    <tr>\n",
              "      <th>176</th>\n",
              "      <td>7.04</td>\n",
              "      <td>7.10</td>\n",
              "      <td>6.81</td>\n",
              "      <td>7.00</td>\n",
              "      <td>6.92</td>\n",
              "      <td>241</td>\n",
              "      <td>241117042</td>\n",
              "      <td>6.974</td>\n",
              "    </tr>\n",
              "    <tr>\n",
              "      <th>177</th>\n",
              "      <td>6.70</td>\n",
              "      <td>6.81</td>\n",
              "      <td>6.52</td>\n",
              "      <td>5.39</td>\n",
              "      <td>7.00</td>\n",
              "      <td>241</td>\n",
              "      <td>241117042</td>\n",
              "      <td>6.484</td>\n",
              "    </tr>\n",
              "  </tbody>\n",
              "</table>\n",
              "<p>169 rows × 8 columns</p>\n",
              "</div>"
            ],
            "text/plain": [
              "      1st   2nd   3rd   4th   5th College Code  StudentID    Avg\n",
              "0    8.11  7.68  7.11  7.43  8.18          115  115017020  7.702\n",
              "1    6.48  5.90  4.15  4.29  4.96          115  115017021  5.156\n",
              "2    8.41  8.24  7.52  8.25  7.75          115  115017022  8.034\n",
              "3    7.33  6.83  6.33  6.79  6.89          115  115017023  6.834\n",
              "4    7.89  7.34  7.22  7.32  7.46          115  115017024  7.446\n",
              "..    ...   ...   ...   ...   ...          ...        ...    ...\n",
              "173  7.48  7.55  7.67  7.39  8.65          241  241117042  7.748\n",
              "174  7.30  6.41  6.59  7.11  7.38          241  241117042  6.958\n",
              "175  6.30  6.28  5.89  5.71  6.50          241  241117042  6.136\n",
              "176  7.04  7.10  6.81  7.00  6.92          241  241117042  6.974\n",
              "177  6.70  6.81  6.52  5.39  7.00          241  241117042  6.484\n",
              "\n",
              "[169 rows x 8 columns]"
            ]
          },
          "metadata": {
            "tags": []
          },
          "execution_count": 326
        }
      ]
    },
    {
      "cell_type": "code",
      "metadata": {
        "id": "WSGf8uGmGr-p"
      },
      "source": [
        "numerical = ['1st','2nd','3rd','4th','5th','College Code','StudentID','Avg']\n",
        "\n",
        "from sklearn.preprocessing import MinMaxScaler\n",
        "min_max_scaler = MinMaxScaler()\n"
      ],
      "execution_count": 327,
      "outputs": []
    },
    {
      "cell_type": "code",
      "metadata": {
        "id": "PAQIdR4IIK8w",
        "outputId": "1b2744d2-109f-4fe1-f0a9-35080604f614",
        "colab": {
          "base_uri": "https://localhost:8080/",
          "height": 415
        }
      },
      "source": [
        "df_final"
      ],
      "execution_count": 328,
      "outputs": [
        {
          "output_type": "execute_result",
          "data": {
            "text/html": [
              "<div>\n",
              "<style scoped>\n",
              "    .dataframe tbody tr th:only-of-type {\n",
              "        vertical-align: middle;\n",
              "    }\n",
              "\n",
              "    .dataframe tbody tr th {\n",
              "        vertical-align: top;\n",
              "    }\n",
              "\n",
              "    .dataframe thead th {\n",
              "        text-align: right;\n",
              "    }\n",
              "</style>\n",
              "<table border=\"1\" class=\"dataframe\">\n",
              "  <thead>\n",
              "    <tr style=\"text-align: right;\">\n",
              "      <th></th>\n",
              "      <th>1st</th>\n",
              "      <th>2nd</th>\n",
              "      <th>3rd</th>\n",
              "      <th>4th</th>\n",
              "      <th>5th</th>\n",
              "      <th>College Code</th>\n",
              "      <th>StudentID</th>\n",
              "      <th>Avg</th>\n",
              "    </tr>\n",
              "  </thead>\n",
              "  <tbody>\n",
              "    <tr>\n",
              "      <th>0</th>\n",
              "      <td>8.11</td>\n",
              "      <td>7.68</td>\n",
              "      <td>7.11</td>\n",
              "      <td>7.43</td>\n",
              "      <td>8.18</td>\n",
              "      <td>115</td>\n",
              "      <td>115017020</td>\n",
              "      <td>7.702</td>\n",
              "    </tr>\n",
              "    <tr>\n",
              "      <th>1</th>\n",
              "      <td>6.48</td>\n",
              "      <td>5.90</td>\n",
              "      <td>4.15</td>\n",
              "      <td>4.29</td>\n",
              "      <td>4.96</td>\n",
              "      <td>115</td>\n",
              "      <td>115017021</td>\n",
              "      <td>5.156</td>\n",
              "    </tr>\n",
              "    <tr>\n",
              "      <th>2</th>\n",
              "      <td>8.41</td>\n",
              "      <td>8.24</td>\n",
              "      <td>7.52</td>\n",
              "      <td>8.25</td>\n",
              "      <td>7.75</td>\n",
              "      <td>115</td>\n",
              "      <td>115017022</td>\n",
              "      <td>8.034</td>\n",
              "    </tr>\n",
              "    <tr>\n",
              "      <th>3</th>\n",
              "      <td>7.33</td>\n",
              "      <td>6.83</td>\n",
              "      <td>6.33</td>\n",
              "      <td>6.79</td>\n",
              "      <td>6.89</td>\n",
              "      <td>115</td>\n",
              "      <td>115017023</td>\n",
              "      <td>6.834</td>\n",
              "    </tr>\n",
              "    <tr>\n",
              "      <th>4</th>\n",
              "      <td>7.89</td>\n",
              "      <td>7.34</td>\n",
              "      <td>7.22</td>\n",
              "      <td>7.32</td>\n",
              "      <td>7.46</td>\n",
              "      <td>115</td>\n",
              "      <td>115017024</td>\n",
              "      <td>7.446</td>\n",
              "    </tr>\n",
              "    <tr>\n",
              "      <th>...</th>\n",
              "      <td>...</td>\n",
              "      <td>...</td>\n",
              "      <td>...</td>\n",
              "      <td>...</td>\n",
              "      <td>...</td>\n",
              "      <td>...</td>\n",
              "      <td>...</td>\n",
              "      <td>...</td>\n",
              "    </tr>\n",
              "    <tr>\n",
              "      <th>173</th>\n",
              "      <td>7.48</td>\n",
              "      <td>7.55</td>\n",
              "      <td>7.67</td>\n",
              "      <td>7.39</td>\n",
              "      <td>8.65</td>\n",
              "      <td>241</td>\n",
              "      <td>241117042</td>\n",
              "      <td>7.748</td>\n",
              "    </tr>\n",
              "    <tr>\n",
              "      <th>174</th>\n",
              "      <td>7.30</td>\n",
              "      <td>6.41</td>\n",
              "      <td>6.59</td>\n",
              "      <td>7.11</td>\n",
              "      <td>7.38</td>\n",
              "      <td>241</td>\n",
              "      <td>241117042</td>\n",
              "      <td>6.958</td>\n",
              "    </tr>\n",
              "    <tr>\n",
              "      <th>175</th>\n",
              "      <td>6.30</td>\n",
              "      <td>6.28</td>\n",
              "      <td>5.89</td>\n",
              "      <td>5.71</td>\n",
              "      <td>6.50</td>\n",
              "      <td>241</td>\n",
              "      <td>241117042</td>\n",
              "      <td>6.136</td>\n",
              "    </tr>\n",
              "    <tr>\n",
              "      <th>176</th>\n",
              "      <td>7.04</td>\n",
              "      <td>7.10</td>\n",
              "      <td>6.81</td>\n",
              "      <td>7.00</td>\n",
              "      <td>6.92</td>\n",
              "      <td>241</td>\n",
              "      <td>241117042</td>\n",
              "      <td>6.974</td>\n",
              "    </tr>\n",
              "    <tr>\n",
              "      <th>177</th>\n",
              "      <td>6.70</td>\n",
              "      <td>6.81</td>\n",
              "      <td>6.52</td>\n",
              "      <td>5.39</td>\n",
              "      <td>7.00</td>\n",
              "      <td>241</td>\n",
              "      <td>241117042</td>\n",
              "      <td>6.484</td>\n",
              "    </tr>\n",
              "  </tbody>\n",
              "</table>\n",
              "<p>169 rows × 8 columns</p>\n",
              "</div>"
            ],
            "text/plain": [
              "      1st   2nd   3rd   4th   5th College Code  StudentID    Avg\n",
              "0    8.11  7.68  7.11  7.43  8.18          115  115017020  7.702\n",
              "1    6.48  5.90  4.15  4.29  4.96          115  115017021  5.156\n",
              "2    8.41  8.24  7.52  8.25  7.75          115  115017022  8.034\n",
              "3    7.33  6.83  6.33  6.79  6.89          115  115017023  6.834\n",
              "4    7.89  7.34  7.22  7.32  7.46          115  115017024  7.446\n",
              "..    ...   ...   ...   ...   ...          ...        ...    ...\n",
              "173  7.48  7.55  7.67  7.39  8.65          241  241117042  7.748\n",
              "174  7.30  6.41  6.59  7.11  7.38          241  241117042  6.958\n",
              "175  6.30  6.28  5.89  5.71  6.50          241  241117042  6.136\n",
              "176  7.04  7.10  6.81  7.00  6.92          241  241117042  6.974\n",
              "177  6.70  6.81  6.52  5.39  7.00          241  241117042  6.484\n",
              "\n",
              "[169 rows x 8 columns]"
            ]
          },
          "metadata": {
            "tags": []
          },
          "execution_count": 328
        }
      ]
    },
    {
      "cell_type": "code",
      "metadata": {
        "id": "mypcz_FVCAqE"
      },
      "source": [
        "df_final.to_csv('cleaned_data.csv')"
      ],
      "execution_count": 329,
      "outputs": []
    },
    {
      "cell_type": "markdown",
      "metadata": {
        "id": "Na_MM6kGVu70"
      },
      "source": [
        "#Prepare the date for Machine Learning Algorithm"
      ]
    },
    {
      "cell_type": "code",
      "metadata": {
        "id": "1uOuhZl0-0fB"
      },
      "source": [
        "# Input data\n",
        "columns = ['1st','2nd','3rd','4th','5th','College Code','StudentID']\n",
        "labels = df_final['Avg'].values\n",
        "features = df_final[list(columns)].values"
      ],
      "execution_count": 330,
      "outputs": []
    },
    {
      "cell_type": "code",
      "metadata": {
        "id": "92U9ts4e_Ts7"
      },
      "source": [
        "# Split data\n",
        "\n",
        "from sklearn.model_selection import train_test_split\n",
        "\n",
        "X_train, X_test, y_train, y_test = train_test_split(features, labels, test_size=0.30)"
      ],
      "execution_count": 331,
      "outputs": []
    },
    {
      "cell_type": "code",
      "metadata": {
        "id": "nu1CQIbR_VoE",
        "outputId": "8df4b343-ae6b-41d8-93fe-58af1cecd267",
        "colab": {
          "base_uri": "https://localhost:8080/",
          "height": 34
        }
      },
      "source": [
        "# Build a Model\n",
        "\n",
        "from sklearn import linear_model\n",
        "\n",
        "# Bulid a new Model\n",
        "regression = linear_model.LinearRegression()\n",
        "\n",
        "# Train the Model\n",
        "regression.fit(X_train, y_train)"
      ],
      "execution_count": 332,
      "outputs": [
        {
          "output_type": "execute_result",
          "data": {
            "text/plain": [
              "LinearRegression(copy_X=True, fit_intercept=True, n_jobs=None, normalize=False)"
            ]
          },
          "metadata": {
            "tags": []
          },
          "execution_count": 332
        }
      ]
    },
    {
      "cell_type": "code",
      "metadata": {
        "id": "SwvK20Zg_Ye6"
      },
      "source": [
        "# Predict\n",
        "\n",
        "\n",
        "# Predict for training set\n",
        "y_train_predict = regression.predict(X_train)\n",
        "\n",
        "# Predict for training set\n",
        "y_test_predict = regression.predict(X_test)"
      ],
      "execution_count": 333,
      "outputs": []
    },
    {
      "cell_type": "code",
      "metadata": {
        "id": "2tN4piWu_dfv",
        "outputId": "3c8caf0f-cd01-41b0-8080-57f2bb0527a7",
        "colab": {
          "base_uri": "https://localhost:8080/",
          "height": 190
        }
      },
      "source": [
        "# Evaluate model performance\n",
        "\n",
        "from sklearn.metrics import mean_squared_error , mean_absolute_error\n",
        "\n",
        "\n",
        "# model evaluation for training set\n",
        "mse_train = mean_squared_error(y_train, y_train_predict)\n",
        "mae_train = mean_absolute_error(y_train, y_train_predict)\n",
        "print(\"The model performance for training set\")\n",
        "print('RMSE is {}'.format(np.sqrt(mse_train)))\n",
        "print('MAE is {}'.format(mae_train))\n",
        "print(\"---------------------------------------\")\n",
        "\n",
        "# model evaluation for testing set\n",
        "mse_test = mean_squared_error(y_test, y_test_predict) # Return the loss it is non-negative . The best value is 0.0\n",
        "mae_test = mean_absolute_error(y_test, y_test_predict) # Return the loss it is non-negative . The best value is 0.0\n",
        "print(\"The model performance for testing set\")\n",
        "print('RMSE is {}'.format(np.sqrt(mse_test)))\n",
        "print('MAE is {}'.format(mae_test))\n",
        "\n",
        "print(\"---------------------------------------\")\n",
        "test_score= regression.score(X_test, y_test)# Return R2 score . The best possible score is 1.0 and it can be negative (because the model can be arbitrarily worse) \n",
        "print(\"The score of model for testing set\")\n",
        "print('Test score {}'.format(test_score.round(2)))"
      ],
      "execution_count": 334,
      "outputs": [
        {
          "output_type": "stream",
          "text": [
            "The model performance for training set\n",
            "RMSE is 1.57802900992988e-09\n",
            "MAE is 1.3157499496709518e-09\n",
            "---------------------------------------\n",
            "The model performance for testing set\n",
            "RMSE is 1.4851490919051389e-09\n",
            "MAE is 1.2014560152862281e-09\n",
            "---------------------------------------\n",
            "The score of model for testing set\n",
            "Test score 1.0\n"
          ],
          "name": "stdout"
        }
      ]
    },
    {
      "cell_type": "code",
      "metadata": {
        "id": "QqqrMpoQBpUC",
        "outputId": "1cdeeed6-0a3a-4102-92fc-b116f7efc938",
        "colab": {
          "base_uri": "https://localhost:8080/",
          "height": 1000
        }
      },
      "source": [
        "\n",
        "compare={\"Actual\": y_test, \"Predict\": y_test_predict}\n",
        "pd.DataFrame(compare)"
      ],
      "execution_count": 335,
      "outputs": [
        {
          "output_type": "execute_result",
          "data": {
            "text/html": [
              "<div>\n",
              "<style scoped>\n",
              "    .dataframe tbody tr th:only-of-type {\n",
              "        vertical-align: middle;\n",
              "    }\n",
              "\n",
              "    .dataframe tbody tr th {\n",
              "        vertical-align: top;\n",
              "    }\n",
              "\n",
              "    .dataframe thead th {\n",
              "        text-align: right;\n",
              "    }\n",
              "</style>\n",
              "<table border=\"1\" class=\"dataframe\">\n",
              "  <thead>\n",
              "    <tr style=\"text-align: right;\">\n",
              "      <th></th>\n",
              "      <th>Actual</th>\n",
              "      <th>Predict</th>\n",
              "    </tr>\n",
              "  </thead>\n",
              "  <tbody>\n",
              "    <tr>\n",
              "      <th>0</th>\n",
              "      <td>5.980</td>\n",
              "      <td>5.980</td>\n",
              "    </tr>\n",
              "    <tr>\n",
              "      <th>1</th>\n",
              "      <td>6.542</td>\n",
              "      <td>6.542</td>\n",
              "    </tr>\n",
              "    <tr>\n",
              "      <th>2</th>\n",
              "      <td>7.704</td>\n",
              "      <td>7.704</td>\n",
              "    </tr>\n",
              "    <tr>\n",
              "      <th>3</th>\n",
              "      <td>6.624</td>\n",
              "      <td>6.624</td>\n",
              "    </tr>\n",
              "    <tr>\n",
              "      <th>4</th>\n",
              "      <td>7.446</td>\n",
              "      <td>7.446</td>\n",
              "    </tr>\n",
              "    <tr>\n",
              "      <th>5</th>\n",
              "      <td>8.560</td>\n",
              "      <td>8.560</td>\n",
              "    </tr>\n",
              "    <tr>\n",
              "      <th>6</th>\n",
              "      <td>8.034</td>\n",
              "      <td>8.034</td>\n",
              "    </tr>\n",
              "    <tr>\n",
              "      <th>7</th>\n",
              "      <td>7.432</td>\n",
              "      <td>7.432</td>\n",
              "    </tr>\n",
              "    <tr>\n",
              "      <th>8</th>\n",
              "      <td>7.336</td>\n",
              "      <td>7.336</td>\n",
              "    </tr>\n",
              "    <tr>\n",
              "      <th>9</th>\n",
              "      <td>6.980</td>\n",
              "      <td>6.980</td>\n",
              "    </tr>\n",
              "    <tr>\n",
              "      <th>10</th>\n",
              "      <td>5.200</td>\n",
              "      <td>5.200</td>\n",
              "    </tr>\n",
              "    <tr>\n",
              "      <th>11</th>\n",
              "      <td>7.448</td>\n",
              "      <td>7.448</td>\n",
              "    </tr>\n",
              "    <tr>\n",
              "      <th>12</th>\n",
              "      <td>8.404</td>\n",
              "      <td>8.404</td>\n",
              "    </tr>\n",
              "    <tr>\n",
              "      <th>13</th>\n",
              "      <td>5.908</td>\n",
              "      <td>5.908</td>\n",
              "    </tr>\n",
              "    <tr>\n",
              "      <th>14</th>\n",
              "      <td>8.024</td>\n",
              "      <td>8.024</td>\n",
              "    </tr>\n",
              "    <tr>\n",
              "      <th>15</th>\n",
              "      <td>6.420</td>\n",
              "      <td>6.420</td>\n",
              "    </tr>\n",
              "    <tr>\n",
              "      <th>16</th>\n",
              "      <td>5.860</td>\n",
              "      <td>5.860</td>\n",
              "    </tr>\n",
              "    <tr>\n",
              "      <th>17</th>\n",
              "      <td>7.028</td>\n",
              "      <td>7.028</td>\n",
              "    </tr>\n",
              "    <tr>\n",
              "      <th>18</th>\n",
              "      <td>6.636</td>\n",
              "      <td>6.636</td>\n",
              "    </tr>\n",
              "    <tr>\n",
              "      <th>19</th>\n",
              "      <td>8.108</td>\n",
              "      <td>8.108</td>\n",
              "    </tr>\n",
              "    <tr>\n",
              "      <th>20</th>\n",
              "      <td>7.534</td>\n",
              "      <td>7.534</td>\n",
              "    </tr>\n",
              "    <tr>\n",
              "      <th>21</th>\n",
              "      <td>8.300</td>\n",
              "      <td>8.300</td>\n",
              "    </tr>\n",
              "    <tr>\n",
              "      <th>22</th>\n",
              "      <td>7.372</td>\n",
              "      <td>7.372</td>\n",
              "    </tr>\n",
              "    <tr>\n",
              "      <th>23</th>\n",
              "      <td>6.670</td>\n",
              "      <td>6.670</td>\n",
              "    </tr>\n",
              "    <tr>\n",
              "      <th>24</th>\n",
              "      <td>6.994</td>\n",
              "      <td>6.994</td>\n",
              "    </tr>\n",
              "    <tr>\n",
              "      <th>25</th>\n",
              "      <td>5.790</td>\n",
              "      <td>5.790</td>\n",
              "    </tr>\n",
              "    <tr>\n",
              "      <th>26</th>\n",
              "      <td>6.152</td>\n",
              "      <td>6.152</td>\n",
              "    </tr>\n",
              "    <tr>\n",
              "      <th>27</th>\n",
              "      <td>6.958</td>\n",
              "      <td>6.958</td>\n",
              "    </tr>\n",
              "    <tr>\n",
              "      <th>28</th>\n",
              "      <td>8.242</td>\n",
              "      <td>8.242</td>\n",
              "    </tr>\n",
              "    <tr>\n",
              "      <th>29</th>\n",
              "      <td>6.360</td>\n",
              "      <td>6.360</td>\n",
              "    </tr>\n",
              "    <tr>\n",
              "      <th>30</th>\n",
              "      <td>7.630</td>\n",
              "      <td>7.630</td>\n",
              "    </tr>\n",
              "    <tr>\n",
              "      <th>31</th>\n",
              "      <td>7.484</td>\n",
              "      <td>7.484</td>\n",
              "    </tr>\n",
              "    <tr>\n",
              "      <th>32</th>\n",
              "      <td>6.630</td>\n",
              "      <td>6.630</td>\n",
              "    </tr>\n",
              "    <tr>\n",
              "      <th>33</th>\n",
              "      <td>9.344</td>\n",
              "      <td>9.344</td>\n",
              "    </tr>\n",
              "    <tr>\n",
              "      <th>34</th>\n",
              "      <td>6.080</td>\n",
              "      <td>6.080</td>\n",
              "    </tr>\n",
              "    <tr>\n",
              "      <th>35</th>\n",
              "      <td>7.730</td>\n",
              "      <td>7.730</td>\n",
              "    </tr>\n",
              "    <tr>\n",
              "      <th>36</th>\n",
              "      <td>7.998</td>\n",
              "      <td>7.998</td>\n",
              "    </tr>\n",
              "    <tr>\n",
              "      <th>37</th>\n",
              "      <td>6.678</td>\n",
              "      <td>6.678</td>\n",
              "    </tr>\n",
              "    <tr>\n",
              "      <th>38</th>\n",
              "      <td>7.702</td>\n",
              "      <td>7.702</td>\n",
              "    </tr>\n",
              "    <tr>\n",
              "      <th>39</th>\n",
              "      <td>6.202</td>\n",
              "      <td>6.202</td>\n",
              "    </tr>\n",
              "    <tr>\n",
              "      <th>40</th>\n",
              "      <td>6.350</td>\n",
              "      <td>6.350</td>\n",
              "    </tr>\n",
              "    <tr>\n",
              "      <th>41</th>\n",
              "      <td>7.370</td>\n",
              "      <td>7.370</td>\n",
              "    </tr>\n",
              "    <tr>\n",
              "      <th>42</th>\n",
              "      <td>6.510</td>\n",
              "      <td>6.510</td>\n",
              "    </tr>\n",
              "    <tr>\n",
              "      <th>43</th>\n",
              "      <td>5.156</td>\n",
              "      <td>5.156</td>\n",
              "    </tr>\n",
              "    <tr>\n",
              "      <th>44</th>\n",
              "      <td>6.634</td>\n",
              "      <td>6.634</td>\n",
              "    </tr>\n",
              "    <tr>\n",
              "      <th>45</th>\n",
              "      <td>6.974</td>\n",
              "      <td>6.974</td>\n",
              "    </tr>\n",
              "    <tr>\n",
              "      <th>46</th>\n",
              "      <td>7.350</td>\n",
              "      <td>7.350</td>\n",
              "    </tr>\n",
              "    <tr>\n",
              "      <th>47</th>\n",
              "      <td>7.780</td>\n",
              "      <td>7.780</td>\n",
              "    </tr>\n",
              "    <tr>\n",
              "      <th>48</th>\n",
              "      <td>6.380</td>\n",
              "      <td>6.380</td>\n",
              "    </tr>\n",
              "    <tr>\n",
              "      <th>49</th>\n",
              "      <td>7.830</td>\n",
              "      <td>7.830</td>\n",
              "    </tr>\n",
              "    <tr>\n",
              "      <th>50</th>\n",
              "      <td>5.890</td>\n",
              "      <td>5.890</td>\n",
              "    </tr>\n",
              "  </tbody>\n",
              "</table>\n",
              "</div>"
            ],
            "text/plain": [
              "    Actual  Predict\n",
              "0    5.980    5.980\n",
              "1    6.542    6.542\n",
              "2    7.704    7.704\n",
              "3    6.624    6.624\n",
              "4    7.446    7.446\n",
              "5    8.560    8.560\n",
              "6    8.034    8.034\n",
              "7    7.432    7.432\n",
              "8    7.336    7.336\n",
              "9    6.980    6.980\n",
              "10   5.200    5.200\n",
              "11   7.448    7.448\n",
              "12   8.404    8.404\n",
              "13   5.908    5.908\n",
              "14   8.024    8.024\n",
              "15   6.420    6.420\n",
              "16   5.860    5.860\n",
              "17   7.028    7.028\n",
              "18   6.636    6.636\n",
              "19   8.108    8.108\n",
              "20   7.534    7.534\n",
              "21   8.300    8.300\n",
              "22   7.372    7.372\n",
              "23   6.670    6.670\n",
              "24   6.994    6.994\n",
              "25   5.790    5.790\n",
              "26   6.152    6.152\n",
              "27   6.958    6.958\n",
              "28   8.242    8.242\n",
              "29   6.360    6.360\n",
              "30   7.630    7.630\n",
              "31   7.484    7.484\n",
              "32   6.630    6.630\n",
              "33   9.344    9.344\n",
              "34   6.080    6.080\n",
              "35   7.730    7.730\n",
              "36   7.998    7.998\n",
              "37   6.678    6.678\n",
              "38   7.702    7.702\n",
              "39   6.202    6.202\n",
              "40   6.350    6.350\n",
              "41   7.370    7.370\n",
              "42   6.510    6.510\n",
              "43   5.156    5.156\n",
              "44   6.634    6.634\n",
              "45   6.974    6.974\n",
              "46   7.350    7.350\n",
              "47   7.780    7.780\n",
              "48   6.380    6.380\n",
              "49   7.830    7.830\n",
              "50   5.890    5.890"
            ]
          },
          "metadata": {
            "tags": []
          },
          "execution_count": 335
        }
      ]
    },
    {
      "cell_type": "code",
      "metadata": {
        "id": "U0cQqwgt_ga3",
        "outputId": "18661221-5a61-44f7-aee1-5c4f5e94c936",
        "colab": {
          "base_uri": "https://localhost:8080/",
          "height": 51
        }
      },
      "source": [
        "# Visualize the Result\n",
        "idx= np.random.choice(X_test.shape[0])\n",
        "print (\"Predicted avg gpa :\", y_test_predict[idx])\n",
        "print (\"Actual avg gpa :\", y_test[idx])"
      ],
      "execution_count": 336,
      "outputs": [
        {
          "output_type": "stream",
          "text": [
            "Predicted avg gpa : 5.859999999668867\n",
            "Actual avg gpa : 5.86\n"
          ],
          "name": "stdout"
        }
      ]
    },
    {
      "cell_type": "code",
      "metadata": {
        "id": "l1i3eRlhBx_e",
        "outputId": "9ca0de1f-2f8d-4430-e8fd-8a025432d901",
        "colab": {
          "base_uri": "https://localhost:8080/",
          "height": 279
        }
      },
      "source": [
        "# visualization\n",
        "plt.scatter(y_test, y_test_predict,  color='black')\n",
        "plt.scatter(y_test[idx], y_test_predict[idx])\n",
        "plt.xlabel('(Actual avg gpa')\n",
        "plt.ylabel('Predicted avg gpa)')\n",
        "plt.plot([df['Avg'].min(), df['Avg'].max()], [df['Avg'].min(), df['Avg'].max()], color='red')\n",
        "plt.show()"
      ],
      "execution_count": 337,
      "outputs": [
        {
          "output_type": "display_data",
          "data": {
            "image/png": "[encoded data removed]",
            "text/plain": [
              "<Figure size 432x288 with 1 Axes>"
            ]
          },
          "metadata": {
            "tags": [],
            "needs_background": "light"
          }
        }
      ]
    },
    {
      "cell_type": "code",
      "metadata": {
        "id": "JWi5ndK7B7i6",
        "outputId": "c45770ab-7901-4a23-c6b1-b755c0ef67c0",
        "colab": {
          "base_uri": "https://localhost:8080/",
          "height": 199
        }
      },
      "source": [
        "plt.figure(figsize=(22,5))\n",
        "plt.scatter(y_test, y_test_predict,  color='blue')\n",
        "plt.scatter(y_train, y_train_predict,  color='Orange')\n",
        "plt.plot([df['Avg'].min(), df['Avg'].max()], [df['Avg'].min(), df['Avg'].max()], color='red')\n",
        "plt.xlabel('Actual avg gpa')\n",
        "plt.ylabel('Predicted avg gpa')\n",
        "plt.show()"
      ],
      "execution_count": 338,
      "outputs": [
        {
          "output_type": "display_data",
          "data": {
            "image/png": "[encoded data removed]",
            "text/plain": [
              "<Figure size 1584x360 with 1 Axes>"
            ]
          },
          "metadata": {
            "tags": [],
            "needs_background": "light"
          }
        }
      ]
    },
    {
      "cell_type": "markdown",
      "metadata": {
        "id": "SwS7EMI0V1bB"
      },
      "source": [
        "#Save Cleaned Data and Download it"
      ]
    },
    {
      "cell_type": "code",
      "metadata": {
        "id": "_C9Ff_KxMdR3"
      },
      "source": [
        "# Save the model\n",
        "\n",
        "import pickle\n",
        "filename='model.pkl'\n",
        "\n",
        "pickle.dump(regression, open(filename, 'wb')) "
      ],
      "execution_count": 340,
      "outputs": []
    },
    {
      "cell_type": "code",
      "metadata": {
        "id": "bp3xoWYbMecx"
      },
      "source": [
        "\n",
        "# Load the saved model\n",
        "model_load = pickle.load(open(filename, 'rb')) "
      ],
      "execution_count": 341,
      "outputs": []
    },
    {
      "cell_type": "code",
      "metadata": {
        "id": "6KNDkDXDMgXh",
        "outputId": "c7bec73b-1784-46b5-90f1-b6e2d1b9874e",
        "colab": {
          "base_uri": "https://localhost:8080/",
          "height": 51
        }
      },
      "source": [
        "model_load.coef_"
      ],
      "execution_count": 342,
      "outputs": [
        {
          "output_type": "execute_result",
          "data": {
            "text/plain": [
              "array([2.00000001e-01, 2.00000000e-01, 2.00000000e-01, 1.99999999e-01,\n",
              "       2.00000000e-01, 3.36090177e-12, 2.77555756e-17])"
            ]
          },
          "metadata": {
            "tags": []
          },
          "execution_count": 342
        }
      ]
    },
    {
      "cell_type": "code",
      "metadata": {
        "id": "dIzfB-2aMi3x",
        "outputId": "99323e27-00c4-4a7f-a3b1-4b711abb4b29",
        "colab": {
          "base_uri": "https://localhost:8080/",
          "height": 34
        }
      },
      "source": [
        "model_load.intercept_"
      ],
      "execution_count": 343,
      "outputs": [
        {
          "output_type": "execute_result",
          "data": {
            "text/plain": [
              "-6.338535918359867e-09"
            ]
          },
          "metadata": {
            "tags": []
          },
          "execution_count": 343
        }
      ]
    },
    {
      "cell_type": "code",
      "metadata": {
        "id": "pM02Afi1FELM",
        "outputId": "2a809669-74df-4d55-d050-6d62f85e0bd5",
        "colab": {
          "base_uri": "https://localhost:8080/",
          "height": 17
        }
      },
      "source": [
        "# downlodel your model\n",
        "\n",
        "from google.colab import files\n",
        "files.download('model.pkl')"
      ],
      "execution_count": 344,
      "outputs": [
        {
          "output_type": "display_data",
          "data": {
            "application/javascript": [
              "\n",
              "    async function download(id, filename, size) {\n",
              "      if (!google.colab.kernel.accessAllowed) {\n",
              "        return;\n",
              "      }\n",
              "      const div = document.createElement('div');\n",
              "      const label = document.createElement('label');\n",
              "      label.textContent = `Downloading \"${filename}\": `;\n",
              "      div.appendChild(label);\n",
              "      const progress = document.createElement('progress');\n",
              "      progress.max = size;\n",
              "      div.appendChild(progress);\n",
              "      document.body.appendChild(div);\n",
              "\n",
              "      const buffers = [];\n",
              "      let downloaded = 0;\n",
              "\n",
              "      const channel = await google.colab.kernel.comms.open(id);\n",
              "      // Send a message to notify the kernel that we're ready.\n",
              "      channel.send({})\n",
              "\n",
              "      for await (const message of channel.messages) {\n",
              "        // Send a message to notify the kernel that we're ready.\n",
              "        channel.send({})\n",
              "        if (message.buffers) {\n",
              "          for (const buffer of message.buffers) {\n",
              "            buffers.push(buffer);\n",
              "            downloaded += buffer.byteLength;\n",
              "            progress.value = downloaded;\n",
              "          }\n",
              "        }\n",
              "      }\n",
              "      const blob = new Blob(buffers, {type: 'application/binary'});\n",
              "      const a = document.createElement('a');\n",
              "      a.href = window.URL.createObjectURL(blob);\n",
              "      a.download = filename;\n",
              "      div.appendChild(a);\n",
              "      a.click();\n",
              "      div.remove();\n",
              "    }\n",
              "  "
            ],
            "text/plain": [
              "<IPython.core.display.Javascript object>"
            ]
          },
          "metadata": {
            "tags": []
          }
        },
        {
          "output_type": "display_data",
          "data": {
            "application/javascript": [
              "download(\"download_25398b4b-852c-41d4-b6b2-432afc416496\", \"model.pkl\", 617)"
            ],
            "text/plain": [
              "<IPython.core.display.Javascript object>"
            ]
          },
          "metadata": {
            "tags": []
          }
        }
      ]
    }
  ]
}